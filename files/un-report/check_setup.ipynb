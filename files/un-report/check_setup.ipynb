{
 "cells": [
  {
   "cell_type": "code",
   "execution_count": null,
   "id": "bbb11728-61ed-4181-bdb8-cd2b8beb3388",
   "metadata": {
    "tags": []
   },
   "outputs": [],
   "source": [
    "import sys\n",
    "import numpy\n",
    "import pandas\n",
    "import seaborn\n",
    "\n",
    "print(f\"Python: {sys.version}\")\n",
    "print(f\"numpy: {numpy.__version__}\")\n",
    "print(f\"pandas: {pandas.__version__}\")\n",
    "print(f\"seaborn: {seaborn.__version__}\")\n",
    "!git --version"
   ]
  },
  {
   "cell_type": "markdown",
   "id": "0485556b-9e79-4f6b-b825-9537fe14da91",
   "metadata": {},
   "source": [
    "Please run the cell above by clicking the Run button (▶) located in the toolbar above."
   ]
  }
 ],
 "metadata": {
  "kernelspec": {
   "display_name": "Python 3 (ipykernel)",
   "language": "python",
   "name": "python3"
  },
  "language_info": {
   "codemirror_mode": {
    "name": "ipython",
    "version": 3
   },
   "file_extension": ".py",
   "mimetype": "text/x-python",
   "name": "python",
   "nbconvert_exporter": "python",
   "pygments_lexer": "ipython3",
   "version": "3.12.0"
  }
 },
 "nbformat": 4,
 "nbformat_minor": 5
}
