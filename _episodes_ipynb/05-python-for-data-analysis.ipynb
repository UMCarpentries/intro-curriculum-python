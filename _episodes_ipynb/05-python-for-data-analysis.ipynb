{
 "cells": [
  {
   "cell_type": "markdown",
   "metadata": {
    "id": "V8jbQwViMrvh"
   },
   "source": [
    "# Python for data analysis"
   ]
  },
  {
   "cell_type": "markdown",
   "metadata": {
    "id": "pLvxT7tKM0kc"
   },
   "source": [
    "## Loading in the data"
   ]
  },
  {
   "cell_type": "code",
   "execution_count": 1,
   "metadata": {
    "id": "VnU11Z3tMksk"
   },
   "outputs": [],
   "source": [
    "import numpy as np\n",
    "import pandas as pd"
   ]
  },
  {
   "cell_type": "code",
   "execution_count": 2,
   "metadata": {
    "colab": {
     "base_uri": "https://localhost:8080/",
     "height": 424
    },
    "id": "45o11EWiM3te",
    "outputId": "15147ab6-9b07-46c0-f947-045898a822eb"
   },
   "outputs": [
    {
     "name": "stdout",
     "output_type": "stream",
     "text": [
      "          country  year         pop continent  lifeExp   gdpPercap\n",
      "0     Afghanistan  1952   8425333.0      Asia   28.801  779.445314\n",
      "1     Afghanistan  1957   9240934.0      Asia   30.332  820.853030\n",
      "2     Afghanistan  1962  10267083.0      Asia   31.997  853.100710\n",
      "3     Afghanistan  1967  11537966.0      Asia   34.020  836.197138\n",
      "4     Afghanistan  1972  13079460.0      Asia   36.088  739.981106\n",
      "...           ...   ...         ...       ...      ...         ...\n",
      "1699     Zimbabwe  1987   9216418.0    Africa   62.351  706.157306\n",
      "1700     Zimbabwe  1992  10704340.0    Africa   60.377  693.420786\n",
      "1701     Zimbabwe  1997  11404948.0    Africa   46.809  792.449960\n",
      "1702     Zimbabwe  2002  11926563.0    Africa   39.989  672.038623\n",
      "1703     Zimbabwe  2007  12311143.0    Africa   43.487  469.709298\n",
      "\n",
      "[1704 rows x 6 columns]\n"
     ]
    }
   ],
   "source": [
    "# Loading and reviewing data\n",
    "\n",
    "gapminder = pd.read_csv(\"https://raw.githubusercontent.com/frfeng/un-report/main/data/gapminder_data.csv\")\n",
    "# gapminder = pd.read_csv(\"gapminder_data.csv\")\n",
    "\n",
    "print(gapminder)"
   ]
  },
  {
   "cell_type": "markdown",
   "metadata": {
    "id": "OWN9HuPBNw8C"
   },
   "source": [
    "```r\n",
    "summarize(gapminder)\n",
    "```"
   ]
  },
  {
   "cell_type": "code",
   "execution_count": 3,
   "metadata": {
    "colab": {
     "base_uri": "https://localhost:8080/",
     "height": 300
    },
    "id": "htIxE6eDNBrF",
    "outputId": "972a1090-4354-4e6b-ff52-d8b481a8f32e"
   },
   "outputs": [
    {
     "name": "stdout",
     "output_type": "stream",
     "text": [
      "             year           pop      lifeExp      gdpPercap\n",
      "count  1704.00000  1.704000e+03  1704.000000    1704.000000\n",
      "mean   1979.50000  2.960121e+07    59.474439    7215.327081\n",
      "std      17.26533  1.061579e+08    12.917107    9857.454543\n",
      "min    1952.00000  6.001100e+04    23.599000     241.165876\n",
      "25%    1965.75000  2.793664e+06    48.198000    1202.060309\n",
      "50%    1979.50000  7.023596e+06    60.712500    3531.846988\n",
      "75%    1993.25000  1.958522e+07    70.845500    9325.462346\n",
      "max    2007.00000  1.318683e+09    82.603000  113523.132900\n"
     ]
    }
   ],
   "source": [
    "print(\n",
    "    gapminder.describe()\n",
    ")"
   ]
  },
  {
   "cell_type": "markdown",
   "metadata": {
    "id": "l2-Mch-AWoJG"
   },
   "source": [
    "```r\n",
    "summarize(gapminder, averageLifeExp=mean(lifeExp))\n",
    "```"
   ]
  },
  {
   "cell_type": "code",
   "execution_count": 4,
   "metadata": {
    "colab": {
     "base_uri": "https://localhost:8080/"
    },
    "id": "ftzGb3OTWnJX",
    "outputId": "ebbee0a5-a443-4cce-efff-05791116d714"
   },
   "outputs": [
    {
     "data": {
      "text/plain": [
       "59.474439366197174"
      ]
     },
     "execution_count": 4,
     "metadata": {},
     "output_type": "execute_result"
    }
   ],
   "source": [
    "(\n",
    "    gapminder[\"lifeExp\"]\n",
    "    .agg('mean')\n",
    ")"
   ]
  },
  {
   "cell_type": "markdown",
   "metadata": {
    "id": "i-T6FvSDPSAN"
   },
   "source": [
    "```r\n",
    "gapminder %>%\n",
    "  filter(year == 2007) %>%\n",
    "  summarize(average=mean(lifeExp))\n",
    "```"
   ]
  },
  {
   "cell_type": "code",
   "execution_count": 5,
   "metadata": {
    "colab": {
     "base_uri": "https://localhost:8080/",
     "height": 424
    },
    "id": "-e0i3JQSJL7d",
    "outputId": "a64ae98e-855b-4380-8955-f33d9e9c71fd"
   },
   "outputs": [
    {
     "name": "stdout",
     "output_type": "stream",
     "text": [
      "                 country  year         pop continent  lifeExp     gdpPercap\n",
      "11           Afghanistan  2007  31889923.0      Asia   43.828    974.580338\n",
      "23               Albania  2007   3600523.0    Europe   76.423   5937.029526\n",
      "35               Algeria  2007  33333216.0    Africa   72.301   6223.367465\n",
      "47                Angola  2007  12420476.0    Africa   42.731   4797.231267\n",
      "59             Argentina  2007  40301927.0  Americas   75.320  12779.379640\n",
      "...                  ...   ...         ...       ...      ...           ...\n",
      "1655             Vietnam  2007  85262356.0      Asia   74.249   2441.576404\n",
      "1667  West Bank and Gaza  2007   4018332.0      Asia   73.422   3025.349798\n",
      "1679          Yemen Rep.  2007  22211743.0      Asia   62.698   2280.769906\n",
      "1691              Zambia  2007  11746035.0    Africa   42.384   1271.211593\n",
      "1703            Zimbabwe  2007  12311143.0    Africa   43.487    469.709298\n",
      "\n",
      "[142 rows x 6 columns]\n"
     ]
    }
   ],
   "source": [
    "print(\n",
    "    gapminder\n",
    "    .query(\"year == 2007\")\n",
    ")"
   ]
  },
  {
   "cell_type": "code",
   "execution_count": 6,
   "metadata": {
    "colab": {
     "base_uri": "https://localhost:8080/"
    },
    "id": "IKlx0McXNhYX",
    "outputId": "a984f3f1-01aa-4b17-f321-b33fa164b9b2"
   },
   "outputs": [
    {
     "data": {
      "text/plain": [
       "67.00742253521126"
      ]
     },
     "execution_count": 6,
     "metadata": {},
     "output_type": "execute_result"
    }
   ],
   "source": [
    "(\n",
    "    gapminder\n",
    "    .query(\"year == 2007\")[\"lifeExp\"]\n",
    "    .agg(\"mean\")\n",
    ")"
   ]
  },
  {
   "cell_type": "markdown",
   "metadata": {
    "id": "76g0O1bQPtbl"
   },
   "source": [
    "```r\n",
    "gapminder %>%\n",
    "  group_by(year) %>%\n",
    "  summarize(average=mean(lifeExp))\n",
    "```"
   ]
  },
  {
   "cell_type": "code",
   "execution_count": 7,
   "metadata": {
    "colab": {
     "base_uri": "https://localhost:8080/"
    },
    "id": "GNM1n4gLNhbJ",
    "outputId": "57c055c1-bf77-4ed6-e076-d43a9ee12db7"
   },
   "outputs": [
    {
     "data": {
      "text/plain": [
       "year\n",
       "1952    49.1\n",
       "1957    51.5\n",
       "1962    53.6\n",
       "1967    55.7\n",
       "1972    57.6\n",
       "1977    59.6\n",
       "1982    61.5\n",
       "1987    63.2\n",
       "1992    64.2\n",
       "1997    65.0\n",
       "2002    65.7\n",
       "2007    67.0\n",
       "Name: lifeExp, dtype: float64"
      ]
     },
     "execution_count": 7,
     "metadata": {},
     "output_type": "execute_result"
    }
   ],
   "source": [
    "(\n",
    "    gapminder\n",
    "    .groupby(\"year\")[\"lifeExp\"]\n",
    "    .agg(\"mean\")\n",
    "    .round(1)\n",
    ")"
   ]
  },
  {
   "cell_type": "code",
   "execution_count": 8,
   "metadata": {
    "colab": {
     "base_uri": "https://localhost:8080/"
    },
    "id": "GNM1n4gLNhbJ",
    "outputId": "57c055c1-bf77-4ed6-e076-d43a9ee12db7",
    "tags": []
   },
   "outputs": [
    {
     "name": "stdout",
     "output_type": "stream",
     "text": [
      "      mean\n",
      "year      \n",
      "1952  49.1\n",
      "1957  51.5\n",
      "1962  53.6\n",
      "1967  55.7\n",
      "1972  57.6\n",
      "1977  59.6\n",
      "1982  61.5\n",
      "1987  63.2\n",
      "1992  64.2\n",
      "1997  65.0\n",
      "2002  65.7\n",
      "2007  67.0\n"
     ]
    }
   ],
   "source": [
    "print(\n",
    "    gapminder\n",
    "    .groupby(\"year\")[\"lifeExp\"]\n",
    "    .agg(mean=\"mean\")\n",
    "    .round(1)\n",
    ")"
   ]
  },
  {
   "cell_type": "markdown",
   "metadata": {
    "id": "LTcZxbQdQJZC"
   },
   "source": [
    "```r\n",
    "gapminder %>%\n",
    "group_by(continent) %>%\n",
    "summarize(average=mean(lifeExp))\n",
    "```"
   ]
  },
  {
   "cell_type": "code",
   "execution_count": 9,
   "metadata": {
    "colab": {
     "base_uri": "https://localhost:8080/"
    },
    "id": "KX870iJ0Nhd7",
    "outputId": "ac7be4b6-48d8-4883-a3ec-0409e45046d1"
   },
   "outputs": [
    {
     "name": "stdout",
     "output_type": "stream",
     "text": [
      "           mean\n",
      "continent      \n",
      "Africa     48.9\n",
      "Americas   64.7\n",
      "Asia       60.1\n",
      "Europe     71.9\n",
      "Oceania    74.3\n"
     ]
    }
   ],
   "source": [
    "print(\n",
    "    gapminder\n",
    "    .groupby(\"continent\")[\"lifeExp\"]\n",
    "    .agg(mean=\"mean\")\n",
    "    .round(1)\n",
    ")"
   ]
  },
  {
   "cell_type": "markdown",
   "metadata": {
    "id": "Ki2v7uEkQXbJ"
   },
   "source": [
    "```r\n",
    "gapminder %>%\n",
    "  group_by(continent) %>%\n",
    "  summarize(average=mean(lifeExp), min=min(lifeExp))\n",
    "```"
   ]
  },
  {
   "cell_type": "code",
   "execution_count": 10,
   "metadata": {
    "colab": {
     "base_uri": "https://localhost:8080/",
     "height": 238
    },
    "id": "mGEcO6MHNhgm",
    "outputId": "3f5c123a-c69e-4eb9-c94d-df7ef9cbd4ae"
   },
   "outputs": [
    {
     "name": "stdout",
     "output_type": "stream",
     "text": [
      "           mean   min\n",
      "continent            \n",
      "Africa     48.9  23.6\n",
      "Americas   64.7  37.6\n",
      "Asia       60.1  28.8\n",
      "Europe     71.9  43.6\n",
      "Oceania    74.3  69.1\n"
     ]
    }
   ],
   "source": [
    "print(\n",
    "    gapminder\n",
    "    .groupby(\"continent\")[\"lifeExp\"]\n",
    "    .agg([\"mean\", \"min\"])\n",
    "    .round(1)\n",
    ")"
   ]
  },
  {
   "cell_type": "markdown",
   "metadata": {
    "id": "-IJ6npwTQ30G"
   },
   "source": [
    "```r\n",
    "gapminder %>%\n",
    "  mutate(gdp = pop * gdpPercap)\n",
    "```"
   ]
  },
  {
   "cell_type": "code",
   "execution_count": 11,
   "metadata": {
    "colab": {
     "base_uri": "https://localhost:8080/"
    },
    "id": "QK8aas8HNhjN",
    "outputId": "afacecec-da33-42d2-ce10-9fdce77a7092"
   },
   "outputs": [
    {
     "name": "stdout",
     "output_type": "stream",
     "text": [
      "          country  year         pop continent  lifeExp   gdpPercap  \\\n",
      "0     Afghanistan  1952   8425333.0      Asia   28.801  779.445314   \n",
      "1     Afghanistan  1957   9240934.0      Asia   30.332  820.853030   \n",
      "2     Afghanistan  1962  10267083.0      Asia   31.997  853.100710   \n",
      "3     Afghanistan  1967  11537966.0      Asia   34.020  836.197138   \n",
      "4     Afghanistan  1972  13079460.0      Asia   36.088  739.981106   \n",
      "...           ...   ...         ...       ...      ...         ...   \n",
      "1699     Zimbabwe  1987   9216418.0    Africa   62.351  706.157306   \n",
      "1700     Zimbabwe  1992  10704340.0    Africa   60.377  693.420786   \n",
      "1701     Zimbabwe  1997  11404948.0    Africa   46.809  792.449960   \n",
      "1702     Zimbabwe  2002  11926563.0    Africa   39.989  672.038623   \n",
      "1703     Zimbabwe  2007  12311143.0    Africa   43.487  469.709298   \n",
      "\n",
      "               gdp  \n",
      "0     6.567086e+09  \n",
      "1     7.585449e+09  \n",
      "2     8.758856e+09  \n",
      "3     9.648014e+09  \n",
      "4     9.678553e+09  \n",
      "...            ...  \n",
      "1699  6.508241e+09  \n",
      "1700  7.422612e+09  \n",
      "1701  9.037851e+09  \n",
      "1702  8.015111e+09  \n",
      "1703  5.782658e+09  \n",
      "\n",
      "[1704 rows x 7 columns]\n"
     ]
    }
   ],
   "source": [
    "gapminder[\"gdp\"] = gapminder[\"pop\"] * gapminder[\"gdpPercap\"]\n",
    "\n",
    "print(gapminder)"
   ]
  },
  {
   "cell_type": "code",
   "execution_count": 12,
   "metadata": {
    "colab": {
     "base_uri": "https://localhost:8080/"
    },
    "id": "QK8aas8HNhjN",
    "outputId": "afacecec-da33-42d2-ce10-9fdce77a7092"
   },
   "outputs": [
    {
     "name": "stdout",
     "output_type": "stream",
     "text": [
      "          country  year           pop continent  lifeExp   gdpPercap  \\\n",
      "0     Afghanistan  1952  6.567086e+09      Asia   28.801  779.445314   \n",
      "1     Afghanistan  1957  7.585449e+09      Asia   30.332  820.853030   \n",
      "2     Afghanistan  1962  8.758856e+09      Asia   31.997  853.100710   \n",
      "3     Afghanistan  1967  9.648014e+09      Asia   34.020  836.197138   \n",
      "4     Afghanistan  1972  9.678553e+09      Asia   36.088  739.981106   \n",
      "...           ...   ...           ...       ...      ...         ...   \n",
      "1699     Zimbabwe  1987  6.508241e+09    Africa   62.351  706.157306   \n",
      "1700     Zimbabwe  1992  7.422612e+09    Africa   60.377  693.420786   \n",
      "1701     Zimbabwe  1997  9.037851e+09    Africa   46.809  792.449960   \n",
      "1702     Zimbabwe  2002  8.015111e+09    Africa   39.989  672.038623   \n",
      "1703     Zimbabwe  2007  5.782658e+09    Africa   43.487  469.709298   \n",
      "\n",
      "               gdp  \n",
      "0     6.567086e+09  \n",
      "1     7.585449e+09  \n",
      "2     8.758856e+09  \n",
      "3     9.648014e+09  \n",
      "4     9.678553e+09  \n",
      "...            ...  \n",
      "1699  6.508241e+09  \n",
      "1700  7.422612e+09  \n",
      "1701  9.037851e+09  \n",
      "1702  8.015111e+09  \n",
      "1703  5.782658e+09  \n",
      "\n",
      "[1704 rows x 7 columns]\n"
     ]
    }
   ],
   "source": [
    "gapminder[\"pop\"] = (\n",
    "    gapminder\n",
    "    .apply(\n",
    "        lambda x: x[\"pop\"] * x[\"gdpPercap\"],\n",
    "        axis=1, # Create a new column!  Default axis=0 creates rows. \n",
    "    )\n",
    ")\n",
    "\n",
    "print(gapminder)"
   ]
  },
  {
   "cell_type": "markdown",
   "metadata": {
    "id": "cVUFLznyRbSR"
   },
   "source": [
    "```r\n",
    "gapminder %>%  \n",
    "mutate(gdp = pop * gdpPercap, popInMillions = pop / 1000000)  \n",
    "```"
   ]
  },
  {
   "cell_type": "code",
   "execution_count": 13,
   "metadata": {
    "colab": {
     "base_uri": "https://localhost:8080/"
    },
    "id": "HOmLU3_cNhl2",
    "outputId": "1ebdb9e6-ec23-4541-9330-6b1c9fcc7a85"
   },
   "outputs": [
    {
     "name": "stdout",
     "output_type": "stream",
     "text": [
      "          country  year           pop continent  lifeExp   gdpPercap  \\\n",
      "0     Afghanistan  1952  6.567086e+09      Asia   28.801  779.445314   \n",
      "1     Afghanistan  1957  7.585449e+09      Asia   30.332  820.853030   \n",
      "2     Afghanistan  1962  8.758856e+09      Asia   31.997  853.100710   \n",
      "3     Afghanistan  1967  9.648014e+09      Asia   34.020  836.197138   \n",
      "4     Afghanistan  1972  9.678553e+09      Asia   36.088  739.981106   \n",
      "...           ...   ...           ...       ...      ...         ...   \n",
      "1699     Zimbabwe  1987  6.508241e+09    Africa   62.351  706.157306   \n",
      "1700     Zimbabwe  1992  7.422612e+09    Africa   60.377  693.420786   \n",
      "1701     Zimbabwe  1997  9.037851e+09    Africa   46.809  792.449960   \n",
      "1702     Zimbabwe  2002  8.015111e+09    Africa   39.989  672.038623   \n",
      "1703     Zimbabwe  2007  5.782658e+09    Africa   43.487  469.709298   \n",
      "\n",
      "               gdp  popInMillions  \n",
      "0     6.567086e+09    6567.086330  \n",
      "1     7.585449e+09    7585.448670  \n",
      "2     8.758856e+09    8758.855797  \n",
      "3     9.648014e+09    9648.014150  \n",
      "4     9.678553e+09    9678.553274  \n",
      "...            ...            ...  \n",
      "1699  6.508241e+09    6508.240905  \n",
      "1700  7.422612e+09    7422.611852  \n",
      "1701  9.037851e+09    9037.850590  \n",
      "1702  8.015111e+09    8015.110972  \n",
      "1703  5.782658e+09    5782.658337  \n",
      "\n",
      "[1704 rows x 8 columns]\n"
     ]
    }
   ],
   "source": [
    "gapminder[\"popInMillions\"] = gapminder[\"pop\"] / 1_000_000\n",
    "\n",
    "print(gapminder)"
   ]
  },
  {
   "cell_type": "markdown",
   "metadata": {
    "id": "N4TydMF_RRsB"
   },
   "source": [
    "```r\n",
    "gapminder %>%\n",
    "  select(pop, year)\n",
    "```"
   ]
  },
  {
   "cell_type": "code",
   "execution_count": 14,
   "metadata": {
    "colab": {
     "base_uri": "https://localhost:8080/",
     "height": 424
    },
    "id": "6gei_BMdZ5mQ",
    "outputId": "52a0f375-8d25-4a0b-c64d-7e5c1dff7843"
   },
   "outputs": [
    {
     "name": "stdout",
     "output_type": "stream",
     "text": [
      "               pop  year\n",
      "0     6.567086e+09  1952\n",
      "1     7.585449e+09  1957\n",
      "2     8.758856e+09  1962\n",
      "3     9.648014e+09  1967\n",
      "4     9.678553e+09  1972\n",
      "...            ...   ...\n",
      "1699  6.508241e+09  1987\n",
      "1700  7.422612e+09  1992\n",
      "1701  9.037851e+09  1997\n",
      "1702  8.015111e+09  2002\n",
      "1703  5.782658e+09  2007\n",
      "\n",
      "[1704 rows x 2 columns]\n"
     ]
    }
   ],
   "source": [
    "print(\n",
    "    gapminder[[\"pop\", \"year\"]]\n",
    ")"
   ]
  },
  {
   "cell_type": "markdown",
   "metadata": {
    "id": "reEc4uWeR6vd"
   },
   "source": [
    "```r\n",
    "gapminder %>%\n",
    "  select(-continent)\n",
    "```"
   ]
  },
  {
   "cell_type": "code",
   "execution_count": 15,
   "metadata": {
    "colab": {
     "base_uri": "https://localhost:8080/",
     "height": 424
    },
    "id": "EOenlMFXRviN",
    "outputId": "86dee0bf-c7c9-4d6b-af95-3fd4f42e334f"
   },
   "outputs": [
    {
     "name": "stdout",
     "output_type": "stream",
     "text": [
      "          country  year           pop  lifeExp   gdpPercap           gdp  \\\n",
      "0     Afghanistan  1952  6.567086e+09   28.801  779.445314  6.567086e+09   \n",
      "1     Afghanistan  1957  7.585449e+09   30.332  820.853030  7.585449e+09   \n",
      "2     Afghanistan  1962  8.758856e+09   31.997  853.100710  8.758856e+09   \n",
      "3     Afghanistan  1967  9.648014e+09   34.020  836.197138  9.648014e+09   \n",
      "4     Afghanistan  1972  9.678553e+09   36.088  739.981106  9.678553e+09   \n",
      "...           ...   ...           ...      ...         ...           ...   \n",
      "1699     Zimbabwe  1987  6.508241e+09   62.351  706.157306  6.508241e+09   \n",
      "1700     Zimbabwe  1992  7.422612e+09   60.377  693.420786  7.422612e+09   \n",
      "1701     Zimbabwe  1997  9.037851e+09   46.809  792.449960  9.037851e+09   \n",
      "1702     Zimbabwe  2002  8.015111e+09   39.989  672.038623  8.015111e+09   \n",
      "1703     Zimbabwe  2007  5.782658e+09   43.487  469.709298  5.782658e+09   \n",
      "\n",
      "      popInMillions  \n",
      "0       6567.086330  \n",
      "1       7585.448670  \n",
      "2       8758.855797  \n",
      "3       9648.014150  \n",
      "4       9678.553274  \n",
      "...             ...  \n",
      "1699    6508.240905  \n",
      "1700    7422.611852  \n",
      "1701    9037.850590  \n",
      "1702    8015.110972  \n",
      "1703    5782.658337  \n",
      "\n",
      "[1704 rows x 7 columns]\n"
     ]
    }
   ],
   "source": [
    "print(\n",
    "    gapminder.drop(columns=\"continent\")\n",
    ")"
   ]
  },
  {
   "cell_type": "markdown",
   "metadata": {
    "id": "EAzq6gsLSJt5"
   },
   "source": [
    "```r\n",
    "gapminder %>%\n",
    "  select(country, continent, year, lifeExp)\n",
    "```"
   ]
  },
  {
   "cell_type": "code",
   "execution_count": 16,
   "metadata": {
    "colab": {
     "base_uri": "https://localhost:8080/",
     "height": 424
    },
    "id": "-d-ZhHjzRvku",
    "outputId": "a8a92a33-41f7-4c78-e8ec-d419bff9c863"
   },
   "outputs": [
    {
     "name": "stdout",
     "output_type": "stream",
     "text": [
      "          country continent  year  lifeExp\n",
      "0     Afghanistan      Asia  1952   28.801\n",
      "1     Afghanistan      Asia  1957   30.332\n",
      "2     Afghanistan      Asia  1962   31.997\n",
      "3     Afghanistan      Asia  1967   34.020\n",
      "4     Afghanistan      Asia  1972   36.088\n",
      "...           ...       ...   ...      ...\n",
      "1699     Zimbabwe    Africa  1987   62.351\n",
      "1700     Zimbabwe    Africa  1992   60.377\n",
      "1701     Zimbabwe    Africa  1997   46.809\n",
      "1702     Zimbabwe    Africa  2002   39.989\n",
      "1703     Zimbabwe    Africa  2007   43.487\n",
      "\n",
      "[1704 rows x 4 columns]\n"
     ]
    }
   ],
   "source": [
    "print(\n",
    "    gapminder[[\"country\", \"continent\", \"year\", \"lifeExp\"]]\n",
    ")"
   ]
  },
  {
   "cell_type": "markdown",
   "metadata": {
    "id": "1CsRKD-PSUiH"
   },
   "source": [
    "```r\n",
    "gapminder %>%\n",
    "  select(-pop, -gdpPercap)\n",
    "```"
   ]
  },
  {
   "cell_type": "code",
   "execution_count": 17,
   "metadata": {
    "colab": {
     "base_uri": "https://localhost:8080/",
     "height": 424
    },
    "id": "8E67VrASRvnP",
    "outputId": "1514505e-d21a-4880-d3a4-09cf8899aa43"
   },
   "outputs": [
    {
     "name": "stdout",
     "output_type": "stream",
     "text": [
      "          country  year continent  lifeExp           gdp  popInMillions\n",
      "0     Afghanistan  1952      Asia   28.801  6.567086e+09    6567.086330\n",
      "1     Afghanistan  1957      Asia   30.332  7.585449e+09    7585.448670\n",
      "2     Afghanistan  1962      Asia   31.997  8.758856e+09    8758.855797\n",
      "3     Afghanistan  1967      Asia   34.020  9.648014e+09    9648.014150\n",
      "4     Afghanistan  1972      Asia   36.088  9.678553e+09    9678.553274\n",
      "...           ...   ...       ...      ...           ...            ...\n",
      "1699     Zimbabwe  1987    Africa   62.351  6.508241e+09    6508.240905\n",
      "1700     Zimbabwe  1992    Africa   60.377  7.422612e+09    7422.611852\n",
      "1701     Zimbabwe  1997    Africa   46.809  9.037851e+09    9037.850590\n",
      "1702     Zimbabwe  2002    Africa   39.989  8.015111e+09    8015.110972\n",
      "1703     Zimbabwe  2007    Africa   43.487  5.782658e+09    5782.658337\n",
      "\n",
      "[1704 rows x 6 columns]\n"
     ]
    }
   ],
   "source": [
    "print(\n",
    "    gapminder.drop(columns=[\"pop\", \"gdpPercap\"])\n",
    ")"
   ]
  },
  {
   "cell_type": "markdown",
   "metadata": {
    "id": "4yO69fP8TlC9"
   },
   "source": [
    "```r\n",
    "gapminder %>%\n",
    "  select(year, starts_with(\"c\"))\n",
    "```"
   ]
  },
  {
   "cell_type": "code",
   "execution_count": 18,
   "metadata": {
    "colab": {
     "base_uri": "https://localhost:8080/"
    },
    "id": "ba9EinjpOKcE",
    "outputId": "1a22c879-118c-4370-b619-89516c79d05f"
   },
   "outputs": [
    {
     "data": {
      "text/plain": [
       "array([ True, False, False,  True, False, False, False, False])"
      ]
     },
     "execution_count": 18,
     "metadata": {},
     "output_type": "execute_result"
    }
   ],
   "source": [
    "gapminder.columns.str.startswith('c')\n",
    "\n",
    "# gapminder.columns.str.startswith('c')"
   ]
  },
  {
   "cell_type": "code",
   "execution_count": 19,
   "metadata": {
    "colab": {
     "base_uri": "https://localhost:8080/",
     "height": 424
    },
    "id": "3CvZxFmCRvpu",
    "outputId": "1c2d69e4-73b0-4157-acbf-cc8b308fa13c"
   },
   "outputs": [
    {
     "name": "stdout",
     "output_type": "stream",
     "text": [
      "          country continent\n",
      "0     Afghanistan      Asia\n",
      "1     Afghanistan      Asia\n",
      "2     Afghanistan      Asia\n",
      "3     Afghanistan      Asia\n",
      "4     Afghanistan      Asia\n",
      "...           ...       ...\n",
      "1699     Zimbabwe    Africa\n",
      "1700     Zimbabwe    Africa\n",
      "1701     Zimbabwe    Africa\n",
      "1702     Zimbabwe    Africa\n",
      "1703     Zimbabwe    Africa\n",
      "\n",
      "[1704 rows x 2 columns]\n"
     ]
    }
   ],
   "source": [
    "print(\n",
    "    gapminder.loc[:, gapminder.columns.str.startswith('c')]\n",
    ")"
   ]
  },
  {
   "cell_type": "code",
   "execution_count": 20,
   "metadata": {
    "colab": {
     "base_uri": "https://localhost:8080/",
     "height": 424
    },
    "id": "cxyldtznVrHS",
    "outputId": "be7e35b0-e4dd-4471-eba9-78c9f89a1487"
   },
   "outputs": [
    {
     "name": "stdout",
     "output_type": "stream",
     "text": [
      "          country continent\n",
      "0     Afghanistan      Asia\n",
      "1     Afghanistan      Asia\n",
      "2     Afghanistan      Asia\n",
      "3     Afghanistan      Asia\n",
      "4     Afghanistan      Asia\n",
      "...           ...       ...\n",
      "1699     Zimbabwe    Africa\n",
      "1700     Zimbabwe    Africa\n",
      "1701     Zimbabwe    Africa\n",
      "1702     Zimbabwe    Africa\n",
      "1703     Zimbabwe    Africa\n",
      "\n",
      "[1704 rows x 2 columns]\n"
     ]
    }
   ],
   "source": [
    "print(\n",
    "    # This could be an exercise question.\n",
    "    # In the question hint, point folks to this regex cheatsheet:\n",
    "    # https://web.mit.edu/hackl/www/lab/turkshop/slides/regex-cheatsheet.pdf\n",
    "    gapminder.filter(regex='^c.*')\n",
    ")"
   ]
  },
  {
   "cell_type": "markdown",
   "metadata": {
    "id": "kIt_EG6ITuXZ"
   },
   "source": [
    "```r\n",
    "gapminder %>%\n",
    "select(ends_with(\"p\"))\n",
    "```"
   ]
  },
  {
   "cell_type": "code",
   "execution_count": 21,
   "metadata": {
    "colab": {
     "base_uri": "https://localhost:8080/",
     "height": 424
    },
    "id": "oFJRqu5tRvsN",
    "outputId": "3ee9f4df-fb78-491f-e096-96adcdb0a3e4"
   },
   "outputs": [
    {
     "name": "stdout",
     "output_type": "stream",
     "text": [
      "               pop  lifeExp   gdpPercap           gdp\n",
      "0     6.567086e+09   28.801  779.445314  6.567086e+09\n",
      "1     7.585449e+09   30.332  820.853030  7.585449e+09\n",
      "2     8.758856e+09   31.997  853.100710  8.758856e+09\n",
      "3     9.648014e+09   34.020  836.197138  9.648014e+09\n",
      "4     9.678553e+09   36.088  739.981106  9.678553e+09\n",
      "...            ...      ...         ...           ...\n",
      "1699  6.508241e+09   62.351  706.157306  6.508241e+09\n",
      "1700  7.422612e+09   60.377  693.420786  7.422612e+09\n",
      "1701  9.037851e+09   46.809  792.449960  9.037851e+09\n",
      "1702  8.015111e+09   39.989  672.038623  8.015111e+09\n",
      "1703  5.782658e+09   43.487  469.709298  5.782658e+09\n",
      "\n",
      "[1704 rows x 4 columns]\n"
     ]
    }
   ],
   "source": [
    "print(\n",
    "    gapminder.loc[:, gapminder.columns.str.endswith('p')]\n",
    ")"
   ]
  },
  {
   "cell_type": "code",
   "execution_count": 22,
   "metadata": {
    "colab": {
     "base_uri": "https://localhost:8080/",
     "height": 424
    },
    "id": "vft5QjjrXNu6",
    "outputId": "76f2825f-085d-4af0-e0d1-5191c3b11716"
   },
   "outputs": [
    {
     "name": "stdout",
     "output_type": "stream",
     "text": [
      "               pop  lifeExp   gdpPercap           gdp\n",
      "0     6.567086e+09   28.801  779.445314  6.567086e+09\n",
      "1     7.585449e+09   30.332  820.853030  7.585449e+09\n",
      "2     8.758856e+09   31.997  853.100710  8.758856e+09\n",
      "3     9.648014e+09   34.020  836.197138  9.648014e+09\n",
      "4     9.678553e+09   36.088  739.981106  9.678553e+09\n",
      "...            ...      ...         ...           ...\n",
      "1699  6.508241e+09   62.351  706.157306  6.508241e+09\n",
      "1700  7.422612e+09   60.377  693.420786  7.422612e+09\n",
      "1701  9.037851e+09   46.809  792.449960  9.037851e+09\n",
      "1702  8.015111e+09   39.989  672.038623  8.015111e+09\n",
      "1703  5.782658e+09   43.487  469.709298  5.782658e+09\n",
      "\n",
      "[1704 rows x 4 columns]\n"
     ]
    }
   ],
   "source": [
    "print(\n",
    "    gapminder.filter(regex='.*p$')\n",
    ")"
   ]
  },
  {
   "cell_type": "markdown",
   "metadata": {
    "id": "pRgPD4XPb3Qt"
   },
   "source": [
    "```r\n",
    "gapminder %>%\n",
    "  select(country, continent, year, lifeExp) %>%\n",
    "  pivot_wider(names_from = year, values_from = lifeExp )\n",
    "```"
   ]
  },
  {
   "cell_type": "markdown",
   "metadata": {
    "id": "u03vXT8Hb8sD"
   },
   "source": [
    "```r\n",
    "gapminder_2007 <- read_csv(\"data/gapminder.csv\") %>%\n",
    "  filter(year == 2007 & continent == \"Americas\") %>%\n",
    "  select(-year, -continent)\n",
    "```"
   ]
  },
  {
   "cell_type": "code",
   "execution_count": 23,
   "metadata": {
    "colab": {
     "base_uri": "https://localhost:8080/",
     "height": 834
    },
    "id": "6RkJ3QWMT-9G",
    "outputId": "0d72005c-276d-4d74-9b1f-b3197ccdd18b"
   },
   "outputs": [
    {
     "name": "stdout",
     "output_type": "stream",
     "text": [
      "                  country           pop  lifeExp     gdpPercap           gdp  \\\n",
      "59              Argentina  5.150336e+11   75.320  12779.379640  5.150336e+11   \n",
      "143               Bolivia  3.485465e+10   65.554   3822.137084  3.485465e+10   \n",
      "179                Brazil  1.722599e+12   72.390   9065.800825  1.722599e+12   \n",
      "251                Canada  1.212704e+12   80.653  36319.235010  1.212704e+12   \n",
      "287                 Chile  2.144967e+11   78.553  13171.638850  2.144967e+11   \n",
      "311              Colombia  3.098839e+11   72.889   7006.580419  3.098839e+11   \n",
      "359            Costa Rica  3.987157e+10   78.782   9645.061420  3.987157e+10   \n",
      "395                  Cuba  1.021604e+11   78.273   8948.102923  1.021604e+11   \n",
      "443    Dominican Republic  5.615422e+10   72.235   6025.374752  5.615422e+10   \n",
      "455               Ecuador  9.454640e+10   74.994   6873.262326  9.454640e+10   \n",
      "479           El Salvador  3.975299e+10   71.878   5728.353514  3.975299e+10   \n",
      "611             Guatemala  6.520383e+10   70.259   5186.050003  6.520383e+10   \n",
      "647                 Haiti  1.021730e+10   60.916   1201.637154  1.021730e+10   \n",
      "659              Honduras  2.655487e+10   70.198   3548.330846  2.655487e+10   \n",
      "791               Jamaica  2.035301e+10   72.567   7320.880262  2.035301e+10   \n",
      "995                Mexico  1.301973e+12   76.195  11977.574960  1.301973e+12   \n",
      "1115            Nicaragua  1.560338e+10   72.899   2749.320965  1.560338e+10   \n",
      "1187               Panama  3.180308e+10   75.537   9809.185636  3.180308e+10   \n",
      "1199             Paraguay  2.782093e+10   71.752   4172.838464  2.782093e+10   \n",
      "1211                 Peru  2.124486e+11   71.421   7408.905561  2.124486e+11   \n",
      "1259          Puerto Rico  7.620326e+10   78.746  19328.709010  7.620326e+10   \n",
      "1559  Trinidad and Tobago  1.902793e+10   69.819  18008.509240  1.902793e+10   \n",
      "1619        United States  1.293446e+13   78.242  42951.653090  1.293446e+13   \n",
      "1631              Uruguay  3.658298e+10   76.384  10611.462990  3.658298e+10   \n",
      "1643            Venezuela  2.977774e+11   73.747  11415.805690  2.977774e+11   \n",
      "\n",
      "      popInMillions  \n",
      "59     5.150336e+05  \n",
      "143    3.485465e+04  \n",
      "179    1.722599e+06  \n",
      "251    1.212704e+06  \n",
      "287    2.144967e+05  \n",
      "311    3.098839e+05  \n",
      "359    3.987157e+04  \n",
      "395    1.021604e+05  \n",
      "443    5.615422e+04  \n",
      "455    9.454640e+04  \n",
      "479    3.975299e+04  \n",
      "611    6.520383e+04  \n",
      "647    1.021730e+04  \n",
      "659    2.655487e+04  \n",
      "791    2.035301e+04  \n",
      "995    1.301973e+06  \n",
      "1115   1.560338e+04  \n",
      "1187   3.180308e+04  \n",
      "1199   2.782093e+04  \n",
      "1211   2.124486e+05  \n",
      "1259   7.620326e+04  \n",
      "1559   1.902793e+04  \n",
      "1619   1.293446e+07  \n",
      "1631   3.658298e+04  \n",
      "1643   2.977774e+05  \n"
     ]
    }
   ],
   "source": [
    "gapminder_2007 = (\n",
    "    gapminder\n",
    "    .query(\"year == 2007 & continent == 'Americas'\")\n",
    "    .drop(columns=[\"year\", \"continent\"])\n",
    ")\n",
    "\n",
    "print(gapminder_2007)"
   ]
  },
  {
   "cell_type": "markdown",
   "metadata": {
    "id": "CZ0pxUbGcEES"
   },
   "source": [
    "## Cleaning up data"
   ]
  },
  {
   "cell_type": "markdown",
   "metadata": {
    "id": "plNLYxs4d_2K"
   },
   "source": [
    "```r\n",
    "read_csv(\"data/co2-un-data.csv\", skip=1)\n",
    "```"
   ]
  },
  {
   "cell_type": "code",
   "execution_count": 24,
   "metadata": {
    "colab": {
     "base_uri": "https://localhost:8080/",
     "height": 424
    },
    "id": "kuPtOCNEfQ0T",
    "outputId": "8a288d71-535a-414a-e9e0-2c72f5991973"
   },
   "outputs": [
    {
     "name": "stdout",
     "output_type": "stream",
     "text": [
      "                      T24 CO2 emission estimates Unnamed: 2  \\\n",
      "0     Region/Country/Area                    NaN       Year   \n",
      "1                       8                Albania       1975   \n",
      "2                       8                Albania       1985   \n",
      "3                       8                Albania       1995   \n",
      "4                       8                Albania       2005   \n",
      "...                   ...                    ...        ...   \n",
      "2128                  716               Zimbabwe       2005   \n",
      "2129                  716               Zimbabwe       2010   \n",
      "2130                  716               Zimbabwe       2015   \n",
      "2131                  716               Zimbabwe       2016   \n",
      "2132                  716               Zimbabwe       2017   \n",
      "\n",
      "                                             Unnamed: 3 Unnamed: 4 Unnamed: 5  \\\n",
      "0                                                Series      Value  Footnotes   \n",
      "1     Emissions (thousand metric tons of carbon diox...  4338.3340        NaN   \n",
      "2     Emissions (thousand metric tons of carbon diox...  6929.9260        NaN   \n",
      "3     Emissions (thousand metric tons of carbon diox...  1848.5490        NaN   \n",
      "4     Emissions (thousand metric tons of carbon diox...  3825.1840        NaN   \n",
      "...                                                 ...        ...        ...   \n",
      "2128  Emissions per capita (metric tons of carbon di...     0.7940        NaN   \n",
      "2129  Emissions per capita (metric tons of carbon di...     0.6720        NaN   \n",
      "2130  Emissions per capita (metric tons of carbon di...     0.7490        NaN   \n",
      "2131  Emissions per capita (metric tons of carbon di...     0.6420        NaN   \n",
      "2132  Emissions per capita (metric tons of carbon di...     0.5880        NaN   \n",
      "\n",
      "                                             Unnamed: 6  \n",
      "0                                                Source  \n",
      "1     International Energy Agency, IEA World Energy ...  \n",
      "2     International Energy Agency, IEA World Energy ...  \n",
      "3     International Energy Agency, IEA World Energy ...  \n",
      "4     International Energy Agency, IEA World Energy ...  \n",
      "...                                                 ...  \n",
      "2128  International Energy Agency, IEA World Energy ...  \n",
      "2129  International Energy Agency, IEA World Energy ...  \n",
      "2130  International Energy Agency, IEA World Energy ...  \n",
      "2131  International Energy Agency, IEA World Energy ...  \n",
      "2132  International Energy Agency, IEA World Energy ...  \n",
      "\n",
      "[2133 rows x 7 columns]\n"
     ]
    }
   ],
   "source": [
    "print(\n",
    "    pd.read_csv(\"https://raw.githubusercontent.com/frfeng/un-report/main/data/co2-un-data.csv\")\n",
    "    # pd.read_csv(\"data/co2-un-data.csv\")\n",
    ")"
   ]
  },
  {
   "cell_type": "code",
   "execution_count": 25,
   "metadata": {
    "colab": {
     "base_uri": "https://localhost:8080/",
     "height": 424
    },
    "id": "cwQRvOGxRvw4",
    "outputId": "c4771a8d-5f11-47f2-c015-d2855d3d6b74"
   },
   "outputs": [
    {
     "name": "stdout",
     "output_type": "stream",
     "text": [
      "      Region/Country/Area Unnamed: 1  Year  \\\n",
      "0                       8    Albania  1975   \n",
      "1                       8    Albania  1985   \n",
      "2                       8    Albania  1995   \n",
      "3                       8    Albania  2005   \n",
      "4                       8    Albania  2010   \n",
      "...                   ...        ...   ...   \n",
      "2127                  716   Zimbabwe  2005   \n",
      "2128                  716   Zimbabwe  2010   \n",
      "2129                  716   Zimbabwe  2015   \n",
      "2130                  716   Zimbabwe  2016   \n",
      "2131                  716   Zimbabwe  2017   \n",
      "\n",
      "                                                 Series     Value Footnotes  \\\n",
      "0     Emissions (thousand metric tons of carbon diox...  4338.334       NaN   \n",
      "1     Emissions (thousand metric tons of carbon diox...  6929.926       NaN   \n",
      "2     Emissions (thousand metric tons of carbon diox...  1848.549       NaN   \n",
      "3     Emissions (thousand metric tons of carbon diox...  3825.184       NaN   \n",
      "4     Emissions (thousand metric tons of carbon diox...  3930.295       NaN   \n",
      "...                                                 ...       ...       ...   \n",
      "2127  Emissions per capita (metric tons of carbon di...     0.794       NaN   \n",
      "2128  Emissions per capita (metric tons of carbon di...     0.672       NaN   \n",
      "2129  Emissions per capita (metric tons of carbon di...     0.749       NaN   \n",
      "2130  Emissions per capita (metric tons of carbon di...     0.642       NaN   \n",
      "2131  Emissions per capita (metric tons of carbon di...     0.588       NaN   \n",
      "\n",
      "                                                 Source  \n",
      "0     International Energy Agency, IEA World Energy ...  \n",
      "1     International Energy Agency, IEA World Energy ...  \n",
      "2     International Energy Agency, IEA World Energy ...  \n",
      "3     International Energy Agency, IEA World Energy ...  \n",
      "4     International Energy Agency, IEA World Energy ...  \n",
      "...                                                 ...  \n",
      "2127  International Energy Agency, IEA World Energy ...  \n",
      "2128  International Energy Agency, IEA World Energy ...  \n",
      "2129  International Energy Agency, IEA World Energy ...  \n",
      "2130  International Energy Agency, IEA World Energy ...  \n",
      "2131  International Energy Agency, IEA World Energy ...  \n",
      "\n",
      "[2132 rows x 7 columns]\n"
     ]
    }
   ],
   "source": [
    "print(\n",
    "    pd.read_csv(\"https://raw.githubusercontent.com/frfeng/un-report/main/data/co2-un-data.csv\", skiprows=1)\n",
    "    # pd.read_csv(\"co2-un-data.csv\", skiprows=1)\n",
    ")"
   ]
  },
  {
   "cell_type": "markdown",
   "metadata": {
    "id": "4M-jdAGieWvT"
   },
   "source": [
    "```r\n",
    "co2_emissions_dirty <- read_csv(\"data/co2-un-data.csv\", skip=2,\n",
    "         col_names=c(\"region\", \"country\", \"year\", \"series\", \"value\", \"footnotes\", \"source\"))\n",
    "```"
   ]
  },
  {
   "cell_type": "code",
   "execution_count": 26,
   "metadata": {
    "colab": {
     "base_uri": "https://localhost:8080/",
     "height": 424
    },
    "id": "o6SBlu_wRvzf",
    "outputId": "702ed487-d393-42a2-d24b-edac3f11838b"
   },
   "outputs": [
    {
     "name": "stdout",
     "output_type": "stream",
     "text": [
      "      region   country  year  \\\n",
      "0          8   Albania  1975   \n",
      "1          8   Albania  1985   \n",
      "2          8   Albania  1995   \n",
      "3          8   Albania  2005   \n",
      "4          8   Albania  2010   \n",
      "...      ...       ...   ...   \n",
      "2127     716  Zimbabwe  2005   \n",
      "2128     716  Zimbabwe  2010   \n",
      "2129     716  Zimbabwe  2015   \n",
      "2130     716  Zimbabwe  2016   \n",
      "2131     716  Zimbabwe  2017   \n",
      "\n",
      "                                                 series     value footnotes  \\\n",
      "0     Emissions (thousand metric tons of carbon diox...  4338.334       NaN   \n",
      "1     Emissions (thousand metric tons of carbon diox...  6929.926       NaN   \n",
      "2     Emissions (thousand metric tons of carbon diox...  1848.549       NaN   \n",
      "3     Emissions (thousand metric tons of carbon diox...  3825.184       NaN   \n",
      "4     Emissions (thousand metric tons of carbon diox...  3930.295       NaN   \n",
      "...                                                 ...       ...       ...   \n",
      "2127  Emissions per capita (metric tons of carbon di...     0.794       NaN   \n",
      "2128  Emissions per capita (metric tons of carbon di...     0.672       NaN   \n",
      "2129  Emissions per capita (metric tons of carbon di...     0.749       NaN   \n",
      "2130  Emissions per capita (metric tons of carbon di...     0.642       NaN   \n",
      "2131  Emissions per capita (metric tons of carbon di...     0.588       NaN   \n",
      "\n",
      "                                                 source  \n",
      "0     International Energy Agency, IEA World Energy ...  \n",
      "1     International Energy Agency, IEA World Energy ...  \n",
      "2     International Energy Agency, IEA World Energy ...  \n",
      "3     International Energy Agency, IEA World Energy ...  \n",
      "4     International Energy Agency, IEA World Energy ...  \n",
      "...                                                 ...  \n",
      "2127  International Energy Agency, IEA World Energy ...  \n",
      "2128  International Energy Agency, IEA World Energy ...  \n",
      "2129  International Energy Agency, IEA World Energy ...  \n",
      "2130  International Energy Agency, IEA World Energy ...  \n",
      "2131  International Energy Agency, IEA World Energy ...  \n",
      "\n",
      "[2132 rows x 7 columns]\n"
     ]
    }
   ],
   "source": [
    "co2_emissions_dirty = pd.read_csv(\"https://raw.githubusercontent.com/frfeng/un-report/main/data/co2-un-data.csv\", skiprows=2,\n",
    "                               names=[\"region\", \"country\", \"year\", \"series\", \"value\", \"footnotes\", \"source\"])\n",
    "\n",
    "# co2_emissions_dirty = pd.read_csv(\"co2-un-data.csv\", skiprows=2,\n",
    "#                                names=[\"region\", \"country\", \"year\", \"series\", \"value\", \"footnotes\", \"source\"])\n",
    "\n",
    "print(co2_emissions_dirty)"
   ]
  },
  {
   "cell_type": "markdown",
   "metadata": {
    "id": "RP-pe4Sdg0Cz"
   },
   "source": [
    "```r\n",
    "read_csv(\"data/co2-un-data.csv\", skip=1) %>%\n",
    " rename_all(tolower)\n",
    "```"
   ]
  },
  {
   "cell_type": "code",
   "execution_count": 27,
   "metadata": {
    "colab": {
     "base_uri": "https://localhost:8080/",
     "height": 424
    },
    "id": "t3hEQ0xwheP4",
    "outputId": "6c18a6ef-ea9a-47c3-bc5b-0895c2246c73"
   },
   "outputs": [
    {
     "name": "stdout",
     "output_type": "stream",
     "text": [
      "      region/country/area unnamed: 1  year  \\\n",
      "0                       8    Albania  1975   \n",
      "1                       8    Albania  1985   \n",
      "2                       8    Albania  1995   \n",
      "3                       8    Albania  2005   \n",
      "4                       8    Albania  2010   \n",
      "...                   ...        ...   ...   \n",
      "2127                  716   Zimbabwe  2005   \n",
      "2128                  716   Zimbabwe  2010   \n",
      "2129                  716   Zimbabwe  2015   \n",
      "2130                  716   Zimbabwe  2016   \n",
      "2131                  716   Zimbabwe  2017   \n",
      "\n",
      "                                                 series     value footnotes  \\\n",
      "0     Emissions (thousand metric tons of carbon diox...  4338.334       NaN   \n",
      "1     Emissions (thousand metric tons of carbon diox...  6929.926       NaN   \n",
      "2     Emissions (thousand metric tons of carbon diox...  1848.549       NaN   \n",
      "3     Emissions (thousand metric tons of carbon diox...  3825.184       NaN   \n",
      "4     Emissions (thousand metric tons of carbon diox...  3930.295       NaN   \n",
      "...                                                 ...       ...       ...   \n",
      "2127  Emissions per capita (metric tons of carbon di...     0.794       NaN   \n",
      "2128  Emissions per capita (metric tons of carbon di...     0.672       NaN   \n",
      "2129  Emissions per capita (metric tons of carbon di...     0.749       NaN   \n",
      "2130  Emissions per capita (metric tons of carbon di...     0.642       NaN   \n",
      "2131  Emissions per capita (metric tons of carbon di...     0.588       NaN   \n",
      "\n",
      "                                                 source  \n",
      "0     International Energy Agency, IEA World Energy ...  \n",
      "1     International Energy Agency, IEA World Energy ...  \n",
      "2     International Energy Agency, IEA World Energy ...  \n",
      "3     International Energy Agency, IEA World Energy ...  \n",
      "4     International Energy Agency, IEA World Energy ...  \n",
      "...                                                 ...  \n",
      "2127  International Energy Agency, IEA World Energy ...  \n",
      "2128  International Energy Agency, IEA World Energy ...  \n",
      "2129  International Energy Agency, IEA World Energy ...  \n",
      "2130  International Energy Agency, IEA World Energy ...  \n",
      "2131  International Energy Agency, IEA World Energy ...  \n",
      "\n",
      "[2132 rows x 7 columns]\n"
     ]
    }
   ],
   "source": [
    "print(\n",
    "    pd.read_csv(\"https://raw.githubusercontent.com/frfeng/un-report/main/data/co2-un-data.csv\", skiprows=1)\n",
    "      .rename(columns=str.lower)\n",
    ")\n",
    "\n",
    "# (\n",
    "#     pd.read_csv(\"co2-un-data.csv\", skiprows=1)\n",
    "#       .rename(columns=str.lower)\n",
    "# )"
   ]
  },
  {
   "cell_type": "markdown",
   "metadata": {
    "id": "tv-7JYGVht6d"
   },
   "source": [
    "```r\n",
    "co2_emissions_dirty %>%\n",
    "  select(country, year, series, value)\n",
    "```"
   ]
  },
  {
   "cell_type": "code",
   "execution_count": 28,
   "metadata": {
    "colab": {
     "base_uri": "https://localhost:8080/",
     "height": 424
    },
    "id": "Pq5GjzKrhaDf",
    "outputId": "d88d0936-f7dd-4fe6-8561-81cbb7723eed"
   },
   "outputs": [
    {
     "name": "stdout",
     "output_type": "stream",
     "text": [
      "       country  year                                             series  \\\n",
      "0      Albania  1975  Emissions (thousand metric tons of carbon diox...   \n",
      "1      Albania  1985  Emissions (thousand metric tons of carbon diox...   \n",
      "2      Albania  1995  Emissions (thousand metric tons of carbon diox...   \n",
      "3      Albania  2005  Emissions (thousand metric tons of carbon diox...   \n",
      "4      Albania  2010  Emissions (thousand metric tons of carbon diox...   \n",
      "...        ...   ...                                                ...   \n",
      "2127  Zimbabwe  2005  Emissions per capita (metric tons of carbon di...   \n",
      "2128  Zimbabwe  2010  Emissions per capita (metric tons of carbon di...   \n",
      "2129  Zimbabwe  2015  Emissions per capita (metric tons of carbon di...   \n",
      "2130  Zimbabwe  2016  Emissions per capita (metric tons of carbon di...   \n",
      "2131  Zimbabwe  2017  Emissions per capita (metric tons of carbon di...   \n",
      "\n",
      "         value  \n",
      "0     4338.334  \n",
      "1     6929.926  \n",
      "2     1848.549  \n",
      "3     3825.184  \n",
      "4     3930.295  \n",
      "...        ...  \n",
      "2127     0.794  \n",
      "2128     0.672  \n",
      "2129     0.749  \n",
      "2130     0.642  \n",
      "2131     0.588  \n",
      "\n",
      "[2132 rows x 4 columns]\n"
     ]
    }
   ],
   "source": [
    "print(\n",
    "    co2_emissions_dirty[[\"country\", \"year\", \"series\", \"value\"]]\n",
    ")"
   ]
  },
  {
   "cell_type": "code",
   "execution_count": 29,
   "metadata": {
    "colab": {
     "base_uri": "https://localhost:8080/"
    },
    "id": "9yG9Dv8Wgx8N",
    "outputId": "b0b2ee41-cf96-437e-88be-da3034e80bbb"
   },
   "outputs": [
    {
     "data": {
      "text/plain": [
       "array(['Emissions (thousand metric tons of carbon dioxide)',\n",
       "       'Emissions per capita (metric tons of carbon dioxide)'],\n",
       "      dtype=object)"
      ]
     },
     "execution_count": 29,
     "metadata": {},
     "output_type": "execute_result"
    }
   ],
   "source": [
    "co2_emissions_dirty[\"series\"].unique()"
   ]
  },
  {
   "cell_type": "markdown",
   "metadata": {
    "id": "1NP-z4U3jJlf"
   },
   "source": [
    "```r\n",
    "co2_emissions_dirty %>% \n",
    "  select(country, year, series, value) %>%\n",
    "  mutate(series = recode(series, \"Emissions (thousand metric tons of carbon dioxide)\" = \"total_emissions\",\n",
    "                         \"Emissions per capita (metric tons of carbon dioxide)\" = \"per_capita_emissions\"))\n",
    "```"
   ]
  },
  {
   "cell_type": "code",
   "execution_count": 30,
   "metadata": {
    "colab": {
     "base_uri": "https://localhost:8080/",
     "height": 363
    },
    "id": "9paQn8yDiEez",
    "outputId": "b62e6d3f-aace-440d-bc24-3ef9695ae374"
   },
   "outputs": [
    {
     "name": "stdout",
     "output_type": "stream",
     "text": [
      "   country  year      series     value\n",
      "0  Albania  1975       total  4338.334\n",
      "1  Albania  1985       total  6929.926\n",
      "2  Albania  1995       total  1848.549\n",
      "3  Albania  2005       total  3825.184\n",
      "4  Albania  2010       total  3930.295\n",
      "5  Albania  2015       total  3824.801\n",
      "6  Albania  2016       total  3674.183\n",
      "7  Albania  2017       total  4342.011\n",
      "8  Albania  1975  per_capita     1.804\n",
      "9  Albania  1985  per_capita     2.337\n"
     ]
    }
   ],
   "source": [
    "# CAN WE COMBINE THE TWO PARTS BELOW LIKE THE R SCRIPT? \n",
    "\n",
    "co2_emissions_dirty[\"series\"].replace({\"Emissions (thousand metric tons of carbon dioxide)\":\"total\",\n",
    "                                       \"Emissions per capita (metric tons of carbon dioxide)\":\"per_capita\"}, \n",
    "                                      inplace=True)\n",
    "\n",
    "print(\n",
    "    co2_emissions_dirty.filter([\"country\", \"year\", \"series\", \"value\"])\n",
    "    .head(10)\n",
    ")"
   ]
  },
  {
   "cell_type": "markdown",
   "metadata": {
    "id": "fVhtaO7GmTSB"
   },
   "source": [
    "```r\n",
    "co2_emissions_dirty %>%\n",
    "  select(country, year, series, value) %>%\n",
    "  mutate(series = recode(series, \"Emissions (thousand metric tons of carbon dioxide)\" = \"total_emission\",\n",
    "                         \"Emissions per capita (metric tons of carbon dioxide)\" = \"per_capita_emission\")) %>%\n",
    "  pivot_wider(names_from=series, values_from=value)\n",
    "```"
   ]
  },
  {
   "cell_type": "code",
   "execution_count": 31,
   "metadata": {
    "colab": {
     "base_uri": "https://localhost:8080/",
     "height": 424
    },
    "id": "BLiv8sK6iNzj",
    "outputId": "cefc00c9-1d43-497b-891a-d7574f81a86a"
   },
   "outputs": [
    {
     "name": "stdout",
     "output_type": "stream",
     "text": [
      "series   country  year  per_capita      total\n",
      "0        Albania  1975       1.804   4338.334\n",
      "1        Albania  1985       2.337   6929.926\n",
      "2        Albania  1995       0.580   1848.549\n",
      "3        Albania  2005       1.270   3825.184\n",
      "4        Albania  2010       1.349   3930.295\n",
      "...          ...   ...         ...        ...\n",
      "1061    Zimbabwe  2005       0.794  10272.774\n",
      "1062    Zimbabwe  2010       0.672   9464.714\n",
      "1063    Zimbabwe  2015       0.749  11822.362\n",
      "1064    Zimbabwe  2016       0.642  10368.900\n",
      "1065    Zimbabwe  2017       0.588   9714.938\n",
      "\n",
      "[1066 rows x 4 columns]\n"
     ]
    }
   ],
   "source": [
    "co2_emissions_dirty[\"series\"].replace({\"Emissions (thousand metric tons of carbon dioxide)\":\"total_emissions\",\n",
    "                                       \"Emissions per capita (metric tons of carbon dioxide)\":\"per_capita_emissions\"}, \n",
    "                                      inplace=True)\n",
    "\n",
    "print(\n",
    "    co2_emissions_dirty[[\"country\", \"year\", \"series\", \"value\"]]\n",
    "          .pivot(index=[\"country\", \"year\"], columns=\"series\", values=\"value\")\n",
    "          .reset_index()\n",
    ")"
   ]
  },
  {
   "cell_type": "markdown",
   "metadata": {
    "id": "vbdr_vCBmy25"
   },
   "source": [
    "```r\n",
    "co2_emissions_dirty %>%\n",
    " select(country, year, series, value) %>%\n",
    " mutate(series = recode(series, \"Emissions (thousand metric tons of carbon dioxide)\" = \"total\",\n",
    "                        \"Emissions per capita (metric tons of carbon dioxide)\" = \"per_capita\")) %>%\n",
    "  pivot_wider(names_from=series, values_from=value) %>%\n",
    " count(year)\n",
    "```"
   ]
  },
  {
   "cell_type": "code",
   "execution_count": 32,
   "metadata": {
    "colab": {
     "base_uri": "https://localhost:8080/"
    },
    "id": "alnWR6nziN18",
    "outputId": "65301f12-0f07-443e-cd5d-f1b5544aa1c1"
   },
   "outputs": [
    {
     "name": "stdout",
     "output_type": "stream",
     "text": [
      "2015    142\n",
      "2016    142\n",
      "2017    142\n",
      "2005    140\n",
      "2010    140\n",
      "1995    136\n",
      "1985    113\n",
      "1975    111\n",
      "Name: year, dtype: int64\n"
     ]
    }
   ],
   "source": [
    "co2_emissions_dirty[\"series\"].replace({\"Emissions (thousand metric tons of carbon dioxide)\":\"total\",\n",
    "                                       \"Emissions per capita (metric tons of carbon dioxide)\":\"per_capita\"}, \n",
    "                                      inplace=True)\n",
    "\n",
    "print(\n",
    "    co2_emissions_dirty[[\"country\", \"year\", \"series\", \"value\"]]\n",
    "          .pivot(index=[\"country\", \"year\"], columns=\"series\", values=\"value\")\n",
    "          .reset_index()\n",
    "          [\"year\"].value_counts()\n",
    ")"
   ]
  },
  {
   "cell_type": "markdown",
   "metadata": {
    "id": "cG0iDn5insjd"
   },
   "source": [
    "```r\n",
    "co2_emissions_dirty %>%\n",
    " select(country, year, series, value) %>%\n",
    " mutate(series = recode(series, \"Emissions (thousand metric tons of carbon dioxide)\" = \"total\",\n",
    "                        \"Emissions per capita (metric tons of carbon dioxide)\" = \"per_capita\")) %>%\n",
    " pivot_wider(names_from=series, values_from=value) %>%\n",
    " filter(year==2005) %>%\n",
    " select(-year)\n",
    "```"
   ]
  },
  {
   "cell_type": "code",
   "execution_count": 33,
   "metadata": {
    "colab": {
     "base_uri": "https://localhost:8080/",
     "height": 424
    },
    "id": "QMB5oxlMiN4w",
    "outputId": "ca7df0a4-f1a1-4fb5-be9a-2d74a7ad3936"
   },
   "outputs": [
    {
     "name": "stdout",
     "output_type": "stream",
     "text": [
      "series                     country  per_capita       total\n",
      "3                          Albania       1.270    3825.184\n",
      "11                         Algeria       2.327   77474.130\n",
      "19                          Angola       0.314    6146.691\n",
      "27                       Argentina       3.819  149476.040\n",
      "33                         Armenia       1.385    4129.845\n",
      "...                            ...         ...         ...\n",
      "1029    Venezuela (Boliv. Rep. of)       5.141  137701.548\n",
      "1037                      Viet Nam       0.940   79230.185\n",
      "1045                         Yemen       0.915   18836.222\n",
      "1053                        Zambia       0.176    2120.692\n",
      "1061                      Zimbabwe       0.794   10272.774\n",
      "\n",
      "[140 rows x 3 columns]\n"
     ]
    }
   ],
   "source": [
    "co2_emissions_dirty[\"series\"].replace({\"Emissions (thousand metric tons of carbon dioxide)\":\"total\",\n",
    "                                       \"Emissions per capita (metric tons of carbon dioxide)\":\"per_capita\"}, \n",
    "                                      inplace=True)\n",
    "\n",
    "print(\n",
    "    co2_emissions_dirty[[\"country\", \"year\", \"series\", \"value\"]]\n",
    "          .pivot(index=[\"country\", \"year\"], columns=\"series\", values=\"value\")\n",
    "          .reset_index()\n",
    "          .query(\"year == 2005\")\n",
    "          .drop(columns=\"year\")\n",
    ")"
   ]
  },
  {
   "cell_type": "code",
   "execution_count": 34,
   "metadata": {
    "colab": {
     "base_uri": "https://localhost:8080/",
     "height": 424
    },
    "id": "H__uSs3aiN7Z",
    "outputId": "88bfb3b7-44b6-4855-d252-6ffc2eb51447"
   },
   "outputs": [
    {
     "name": "stdout",
     "output_type": "stream",
     "text": [
      "series                     country  per_capita       total\n",
      "3                          Albania       1.270    3825.184\n",
      "11                         Algeria       2.327   77474.130\n",
      "19                          Angola       0.314    6146.691\n",
      "27                       Argentina       3.819  149476.040\n",
      "33                         Armenia       1.385    4129.845\n",
      "...                            ...         ...         ...\n",
      "1029    Venezuela (Boliv. Rep. of)       5.141  137701.548\n",
      "1037                      Viet Nam       0.940   79230.185\n",
      "1045                         Yemen       0.915   18836.222\n",
      "1053                        Zambia       0.176    2120.692\n",
      "1061                      Zimbabwe       0.794   10272.774\n",
      "\n",
      "[140 rows x 3 columns]\n"
     ]
    }
   ],
   "source": [
    "co2_emissions_dirty[\"series\"].replace({\"Emissions (thousand metric tons of carbon dioxide)\":\"total\",\n",
    "                                       \"Emissions per capita (metric tons of carbon dioxide)\":\"per_capita\"}, \n",
    "                                      inplace=True)\n",
    "\n",
    "co2_emissions = (\n",
    "    co2_emissions_dirty[[\"country\", \"year\", \"series\", \"value\"]]\n",
    "    .pivot(index=[\"country\", \"year\"], columns=\"series\", values=\"value\")\n",
    "    .reset_index()\n",
    "    .query(\"year == 2005\")\n",
    "    .drop(columns=\"year\")\n",
    ")\n",
    "\n",
    "print(co2_emissions)"
   ]
  },
  {
   "cell_type": "code",
   "execution_count": 35,
   "metadata": {
    "colab": {
     "base_uri": "https://localhost:8080/",
     "height": 834
    },
    "id": "Akw4Yhd0iC7B",
    "outputId": "e4e474b2-3d18-4acf-ee9c-af80dbaee625"
   },
   "outputs": [
    {
     "name": "stdout",
     "output_type": "stream",
     "text": [
      "                  country           pop  lifeExp     gdpPercap           gdp  \\\n",
      "59              Argentina  5.150336e+11   75.320  12779.379640  5.150336e+11   \n",
      "143               Bolivia  3.485465e+10   65.554   3822.137084  3.485465e+10   \n",
      "179                Brazil  1.722599e+12   72.390   9065.800825  1.722599e+12   \n",
      "251                Canada  1.212704e+12   80.653  36319.235010  1.212704e+12   \n",
      "287                 Chile  2.144967e+11   78.553  13171.638850  2.144967e+11   \n",
      "311              Colombia  3.098839e+11   72.889   7006.580419  3.098839e+11   \n",
      "359            Costa Rica  3.987157e+10   78.782   9645.061420  3.987157e+10   \n",
      "395                  Cuba  1.021604e+11   78.273   8948.102923  1.021604e+11   \n",
      "443    Dominican Republic  5.615422e+10   72.235   6025.374752  5.615422e+10   \n",
      "455               Ecuador  9.454640e+10   74.994   6873.262326  9.454640e+10   \n",
      "479           El Salvador  3.975299e+10   71.878   5728.353514  3.975299e+10   \n",
      "611             Guatemala  6.520383e+10   70.259   5186.050003  6.520383e+10   \n",
      "647                 Haiti  1.021730e+10   60.916   1201.637154  1.021730e+10   \n",
      "659              Honduras  2.655487e+10   70.198   3548.330846  2.655487e+10   \n",
      "791               Jamaica  2.035301e+10   72.567   7320.880262  2.035301e+10   \n",
      "995                Mexico  1.301973e+12   76.195  11977.574960  1.301973e+12   \n",
      "1115            Nicaragua  1.560338e+10   72.899   2749.320965  1.560338e+10   \n",
      "1187               Panama  3.180308e+10   75.537   9809.185636  3.180308e+10   \n",
      "1199             Paraguay  2.782093e+10   71.752   4172.838464  2.782093e+10   \n",
      "1211                 Peru  2.124486e+11   71.421   7408.905561  2.124486e+11   \n",
      "1259          Puerto Rico  7.620326e+10   78.746  19328.709010  7.620326e+10   \n",
      "1559  Trinidad and Tobago  1.902793e+10   69.819  18008.509240  1.902793e+10   \n",
      "1619        United States  1.293446e+13   78.242  42951.653090  1.293446e+13   \n",
      "1631              Uruguay  3.658298e+10   76.384  10611.462990  3.658298e+10   \n",
      "1643            Venezuela  2.977774e+11   73.747  11415.805690  2.977774e+11   \n",
      "\n",
      "      popInMillions  \n",
      "59     5.150336e+05  \n",
      "143    3.485465e+04  \n",
      "179    1.722599e+06  \n",
      "251    1.212704e+06  \n",
      "287    2.144967e+05  \n",
      "311    3.098839e+05  \n",
      "359    3.987157e+04  \n",
      "395    1.021604e+05  \n",
      "443    5.615422e+04  \n",
      "455    9.454640e+04  \n",
      "479    3.975299e+04  \n",
      "611    6.520383e+04  \n",
      "647    1.021730e+04  \n",
      "659    2.655487e+04  \n",
      "791    2.035301e+04  \n",
      "995    1.301973e+06  \n",
      "1115   1.560338e+04  \n",
      "1187   3.180308e+04  \n",
      "1199   2.782093e+04  \n",
      "1211   2.124486e+05  \n",
      "1259   7.620326e+04  \n",
      "1559   1.902793e+04  \n",
      "1619   1.293446e+07  \n",
      "1631   3.658298e+04  \n",
      "1643   2.977774e+05  \n"
     ]
    }
   ],
   "source": [
    "gapminder_2007 = (\n",
    "    gapminder\n",
    "    .query(\"year == 2007 & continent == 'Americas'\")\n",
    "    .drop(columns=[\"year\", \"continent\"])\n",
    ")\n",
    "\n",
    "print(gapminder_2007)"
   ]
  },
  {
   "cell_type": "code",
   "execution_count": 36,
   "metadata": {
    "colab": {
     "base_uri": "https://localhost:8080/"
    },
    "id": "FyEM_ZSIiGBK",
    "outputId": "167a4c36-a1b1-4437-a9a5-6aacc6b97251"
   },
   "outputs": [
    {
     "data": {
      "text/plain": [
       "(25, 6)"
      ]
     },
     "execution_count": 36,
     "metadata": {},
     "output_type": "execute_result"
    }
   ],
   "source": [
    "gapminder_2007.shape"
   ]
  },
  {
   "cell_type": "markdown",
   "metadata": {
    "id": "0ws7tZYDrcEW"
   },
   "source": [
    "```r\n",
    "inner_join(gapminder, co2_emissions)\n",
    "```"
   ]
  },
  {
   "cell_type": "code",
   "execution_count": 37,
   "metadata": {
    "colab": {
     "base_uri": "https://localhost:8080/",
     "height": 708
    },
    "id": "JaI9pPe8pwh9",
    "outputId": "2582d451-7969-49f2-865c-6ac507a0a1e3"
   },
   "outputs": [
    {
     "name": "stdout",
     "output_type": "stream",
     "text": [
      "                country           pop  lifeExp     gdpPercap           gdp  \\\n",
      "0             Argentina  5.150336e+11   75.320  12779.379640  5.150336e+11   \n",
      "1                Brazil  1.722599e+12   72.390   9065.800825  1.722599e+12   \n",
      "2                Canada  1.212704e+12   80.653  36319.235010  1.212704e+12   \n",
      "3                 Chile  2.144967e+11   78.553  13171.638850  2.144967e+11   \n",
      "4              Colombia  3.098839e+11   72.889   7006.580419  3.098839e+11   \n",
      "5            Costa Rica  3.987157e+10   78.782   9645.061420  3.987157e+10   \n",
      "6                  Cuba  1.021604e+11   78.273   8948.102923  1.021604e+11   \n",
      "7    Dominican Republic  5.615422e+10   72.235   6025.374752  5.615422e+10   \n",
      "8               Ecuador  9.454640e+10   74.994   6873.262326  9.454640e+10   \n",
      "9           El Salvador  3.975299e+10   71.878   5728.353514  3.975299e+10   \n",
      "10            Guatemala  6.520383e+10   70.259   5186.050003  6.520383e+10   \n",
      "11                Haiti  1.021730e+10   60.916   1201.637154  1.021730e+10   \n",
      "12             Honduras  2.655487e+10   70.198   3548.330846  2.655487e+10   \n",
      "13              Jamaica  2.035301e+10   72.567   7320.880262  2.035301e+10   \n",
      "14               Mexico  1.301973e+12   76.195  11977.574960  1.301973e+12   \n",
      "15            Nicaragua  1.560338e+10   72.899   2749.320965  1.560338e+10   \n",
      "16               Panama  3.180308e+10   75.537   9809.185636  3.180308e+10   \n",
      "17             Paraguay  2.782093e+10   71.752   4172.838464  2.782093e+10   \n",
      "18                 Peru  2.124486e+11   71.421   7408.905561  2.124486e+11   \n",
      "19  Trinidad and Tobago  1.902793e+10   69.819  18008.509240  1.902793e+10   \n",
      "20              Uruguay  3.658298e+10   76.384  10611.462990  3.658298e+10   \n",
      "\n",
      "    popInMillions  per_capita       total  \n",
      "0    5.150336e+05       3.819  149476.040  \n",
      "1    1.722599e+06       1.667  311623.799  \n",
      "2    1.212704e+06      16.762  540431.495  \n",
      "3    2.144967e+05       3.343   54434.634  \n",
      "4    3.098839e+05       1.238   53585.300  \n",
      "5    3.987157e+04       1.286    5463.059  \n",
      "6    1.021604e+05       2.220   25051.431  \n",
      "7    5.615422e+04       1.897   17522.139  \n",
      "8    9.454640e+04       1.742   23926.725  \n",
      "9    3.975299e+04       1.037    6252.815  \n",
      "10   6.520383e+04       0.811   10621.597  \n",
      "11   1.021730e+04       0.214    1980.992  \n",
      "12   2.655487e+04       0.976    7192.737  \n",
      "13   2.035301e+04       3.746   10281.648  \n",
      "14   1.301973e+06       3.854  412385.135  \n",
      "15   1.560338e+04       0.750    4032.083  \n",
      "16   3.180308e+04       2.035    6776.118  \n",
      "17   2.782093e+04       0.599    3472.665  \n",
      "18   2.124486e+05       1.037   28632.888  \n",
      "19   1.902793e+04      13.243   17175.823  \n",
      "20   3.658298e+04       1.549    5151.871  \n"
     ]
    }
   ],
   "source": [
    "print(\n",
    "    gapminder_2007\n",
    "    .merge(co2_emissions, how=\"inner\", on=\"country\")\n",
    ")"
   ]
  },
  {
   "cell_type": "code",
   "execution_count": 38,
   "metadata": {
    "colab": {
     "base_uri": "https://localhost:8080/",
     "height": 424
    },
    "id": "KnTE6t21pws6",
    "outputId": "3e997d8b-657d-4bf1-f2bc-9613c5e2be51"
   },
   "outputs": [
    {
     "name": "stdout",
     "output_type": "stream",
     "text": [
      "                        country           pop  lifeExp     gdpPercap  \\\n",
      "0                     Argentina  5.150336e+11   75.320  12779.379640   \n",
      "1                       Bolivia  3.485465e+10   65.554   3822.137084   \n",
      "2                        Brazil  1.722599e+12   72.390   9065.800825   \n",
      "3                        Canada  1.212704e+12   80.653  36319.235010   \n",
      "4                         Chile  2.144967e+11   78.553  13171.638850   \n",
      "..                          ...           ...      ...           ...   \n",
      "139  Venezuela (Boliv. Rep. of)           NaN      NaN           NaN   \n",
      "140                    Viet Nam           NaN      NaN           NaN   \n",
      "141                       Yemen           NaN      NaN           NaN   \n",
      "142                      Zambia           NaN      NaN           NaN   \n",
      "143                    Zimbabwe           NaN      NaN           NaN   \n",
      "\n",
      "              gdp  popInMillions  per_capita       total      _merge  \n",
      "0    5.150336e+11   5.150336e+05       3.819  149476.040        both  \n",
      "1    3.485465e+10   3.485465e+04         NaN         NaN   left_only  \n",
      "2    1.722599e+12   1.722599e+06       1.667  311623.799        both  \n",
      "3    1.212704e+12   1.212704e+06      16.762  540431.495        both  \n",
      "4    2.144967e+11   2.144967e+05       3.343   54434.634        both  \n",
      "..            ...            ...         ...         ...         ...  \n",
      "139           NaN            NaN       5.141  137701.548  right_only  \n",
      "140           NaN            NaN       0.940   79230.185  right_only  \n",
      "141           NaN            NaN       0.915   18836.222  right_only  \n",
      "142           NaN            NaN       0.176    2120.692  right_only  \n",
      "143           NaN            NaN       0.794   10272.774  right_only  \n",
      "\n",
      "[144 rows x 9 columns]\n"
     ]
    }
   ],
   "source": [
    "print(\n",
    "    gapminder_2007\n",
    "    .merge(co2_emissions, how=\"outer\", on=\"country\", indicator=True)\n",
    ")"
   ]
  },
  {
   "cell_type": "code",
   "execution_count": 39,
   "metadata": {
    "colab": {
     "base_uri": "https://localhost:8080/",
     "height": 175
    },
    "id": "v1fHji23pwwA",
    "outputId": "a650045b-108d-4a3b-ee10-954c03483131"
   },
   "outputs": [
    {
     "name": "stdout",
     "output_type": "stream",
     "text": [
      "          country           pop  lifeExp     gdpPercap           gdp  \\\n",
      "1         Bolivia  3.485465e+10   65.554   3822.137084  3.485465e+10   \n",
      "20    Puerto Rico  7.620326e+10   78.746  19328.709010  7.620326e+10   \n",
      "22  United States  1.293446e+13   78.242  42951.653090  1.293446e+13   \n",
      "24      Venezuela  2.977774e+11   73.747  11415.805690  2.977774e+11   \n",
      "\n",
      "    popInMillions  per_capita  total     _merge  \n",
      "1    3.485465e+04         NaN    NaN  left_only  \n",
      "20   7.620326e+04         NaN    NaN  left_only  \n",
      "22   1.293446e+07         NaN    NaN  left_only  \n",
      "24   2.977774e+05         NaN    NaN  left_only  \n"
     ]
    }
   ],
   "source": [
    "print(\n",
    "    gapminder_2007\n",
    "    .merge(co2_emissions, how=\"outer\", on=\"country\", indicator=True)\n",
    "    .query(\"_merge == 'left_only'\")\n",
    ")"
   ]
  },
  {
   "cell_type": "code",
   "execution_count": 40,
   "metadata": {
    "colab": {
     "base_uri": "https://localhost:8080/"
    },
    "id": "EYT894tFEKOR",
    "outputId": "4b4e0894-709b-42f8-c41d-89c00100a434"
   },
   "outputs": [
    {
     "name": "stdout",
     "output_type": "stream",
     "text": [
      "['Albania' 'Algeria' 'Angola' 'Argentina' 'Armenia' 'Australia' 'Austria'\n",
      " 'Azerbaijan' 'Bahrain' 'Bangladesh' 'Belarus' 'Belgium' 'Benin'\n",
      " 'Bolivia (Plurin. State of)' 'Bosnia and Herzegovina' 'Botswana' 'Brazil'\n",
      " 'Brunei Darussalam' 'Bulgaria' 'Cambodia' 'Cameroon' 'Canada' 'Chile'\n",
      " 'China' 'China, Hong Kong SAR' 'Colombia' 'Congo' 'Costa Rica' 'Croatia'\n",
      " 'Cuba' 'Cyprus' 'Czechia' 'Côte d’Ivoire' \"Dem. People's Rep. Korea\"\n",
      " 'Dem. Rep. of the Congo' 'Denmark' 'Dominican Republic' 'Ecuador' 'Egypt'\n",
      " 'El Salvador' 'Eritrea' 'Estonia' 'Ethiopia' 'Finland' 'France' 'Gabon'\n",
      " 'Georgia' 'Germany' 'Ghana' 'Gibraltar' 'Greece' 'Guatemala' 'Haiti'\n",
      " 'Honduras' 'Hungary' 'Iceland' 'India' 'Indonesia'\n",
      " 'Iran (Islamic Republic of)' 'Iraq' 'Ireland' 'Israel' 'Italy' 'Jamaica'\n",
      " 'Japan' 'Jordan' 'Kazakhstan' 'Kenya' 'Kosovo' 'Kuwait' 'Kyrgyzstan'\n",
      " 'Latvia' 'Lebanon' 'Libya' 'Lithuania' 'Luxembourg' 'Malaysia' 'Malta'\n",
      " 'Mauritius' 'Mexico' 'Mongolia' 'Montenegro' 'Morocco' 'Mozambique'\n",
      " 'Myanmar' 'Namibia' 'Nepal' 'Netherlands' 'New Zealand' 'Nicaragua'\n",
      " 'Niger' 'Nigeria' 'North Macedonia' 'Norway' 'Oman' 'Pakistan' 'Panama'\n",
      " 'Paraguay' 'Peru' 'Philippines' 'Poland' 'Portugal' 'Qatar'\n",
      " 'Republic of Korea' 'Republic of Moldova' 'Romania' 'Russian Federation'\n",
      " 'Saudi Arabia' 'Senegal' 'Serbia' 'Singapore' 'Slovakia' 'Slovenia'\n",
      " 'South Africa' 'Spain' 'Sri Lanka' 'Sudan' 'Suriname' 'Sweden'\n",
      " 'Switzerland' 'Syrian Arab Republic' 'Tajikistan' 'Thailand' 'Togo'\n",
      " 'Trinidad and Tobago' 'Tunisia' 'Turkey' 'Turkmenistan' 'Ukraine'\n",
      " 'United Arab Emirates' 'United Kingdom' 'United Rep. of Tanzania'\n",
      " 'United States of America' 'Uruguay' 'Uzbekistan'\n",
      " 'Venezuela (Boliv. Rep. of)' 'Viet Nam' 'Yemen' 'Zambia' 'Zimbabwe']\n"
     ]
    }
   ],
   "source": [
    "print(\n",
    "    co2_emissions[\"country\"].unique()\n",
    ")"
   ]
  },
  {
   "cell_type": "markdown",
   "metadata": {
    "id": "r5Rfho3_UkC3"
   },
   "source": [
    "```r\n",
    "co2_emissions <- read_csv(\"data/co2-un-data.csv\", skip=2,\n",
    "                          col_names=c(\"region\", \"country\", \"year\",\n",
    "                                      \"series\", \"value\", \"footnotes\", \"source\")) %>%\n",
    "  select(country, year, series, value) %>%\n",
    "  mutate(series = recode(series, \"Emissions (thousand metric tons of carbon dioxide)\" = \"total\",\n",
    "                         \"Emissions per capita (metric tons of carbon dioxide)\" = \"per_capita\")) %>%\n",
    "  pivot_wider(names_from=series, values_from=value) %>%\n",
    "  filter(year==2005) %>%\n",
    "  select(-year) %>%\n",
    "  mutate(country=recode(country,\n",
    "                        \"Bolivia (Plurin. State of)\" = \"Bolivia\",\n",
    "                        \"United States of America\" = \"United States\",\n",
    "                        \"Venezuela (Boliv. Rep. of)\" = \"Venezuela\")\n",
    "  )\n",
    "```"
   ]
  },
  {
   "cell_type": "code",
   "execution_count": 41,
   "metadata": {
    "id": "6jcy0di9jXrj"
   },
   "outputs": [
    {
     "name": "stdout",
     "output_type": "stream",
     "text": [
      "series    country  per_capita       total\n",
      "3         Albania       1.270    3825.184\n",
      "11        Algeria       2.327   77474.130\n",
      "19         Angola       0.314    6146.691\n",
      "27      Argentina       3.819  149476.040\n",
      "33        Armenia       1.385    4129.845\n",
      "...           ...         ...         ...\n",
      "1029    Venezuela       5.141  137701.548\n",
      "1037     Viet Nam       0.940   79230.185\n",
      "1045        Yemen       0.915   18836.222\n",
      "1053       Zambia       0.176    2120.692\n",
      "1061     Zimbabwe       0.794   10272.774\n",
      "\n",
      "[140 rows x 3 columns]\n"
     ]
    }
   ],
   "source": [
    "co2_emissions_dirty[\"series\"].replace({\"Emissions (thousand metric tons of carbon dioxide)\":\"total_emissions\",\n",
    "                                       \"Emissions per capita (metric tons of carbon dioxide)\":\"per_capita_emissions\"}, \n",
    "                                      inplace=True)\n",
    "\n",
    "co2_emissions = (\n",
    "    co2_emissions_dirty[[\"country\", \"year\", \"series\", \"value\"]]\n",
    "    .pivot(index=[\"country\", \"year\"], columns=\"series\", values=\"value\")\n",
    "    .reset_index()\n",
    "    .query(\"year == 2005\")\n",
    "    .drop(columns=\"year\")\n",
    ")\n",
    "\n",
    "(\n",
    "    co2_emissions[\"country\"]\n",
    "    .replace({\n",
    "        \"Bolivia (Plurin. State of)\":\"Bolivia\",\n",
    "        \"United States of America\":\"United States\",\n",
    "        \"Venezuela (Boliv. Rep. of)\":\"Venezuela\"\n",
    "    }, inplace=True)\n",
    ")\n",
    "\n",
    "print(co2_emissions)"
   ]
  },
  {
   "cell_type": "markdown",
   "metadata": {
    "id": "OtzIy0xKU_wJ"
   },
   "source": [
    "```r\n",
    "anti_join(gapminder, co2_emissions, by=\"country\")\n",
    "```"
   ]
  },
  {
   "cell_type": "code",
   "execution_count": 42,
   "metadata": {
    "colab": {
     "base_uri": "https://localhost:8080/",
     "height": 81
    },
    "id": "hrMqXQKTjXt7",
    "outputId": "31b27d2f-f26b-4e04-97a9-7021bc4bef9c"
   },
   "outputs": [
    {
     "name": "stdout",
     "output_type": "stream",
     "text": [
      "        country           pop  lifeExp    gdpPercap           gdp  \\\n",
      "20  Puerto Rico  7.620326e+10   78.746  19328.70901  7.620326e+10   \n",
      "\n",
      "    popInMillions  per_capita  total     _merge  \n",
      "20   76203.261314         NaN    NaN  left_only  \n"
     ]
    }
   ],
   "source": [
    "print(\n",
    "    gapminder_2007\n",
    "    .merge(co2_emissions, how=\"outer\", on=\"country\", indicator=True)\n",
    "    .query(\"_merge == 'left_only'\")\n",
    ")"
   ]
  },
  {
   "cell_type": "markdown",
   "metadata": {
    "id": "XeL9etrsVNz6"
   },
   "source": [
    "```r\n",
    "gapminder <- read_csv(\"data/gapminder.csv\") %>%\n",
    "filter(year == 2007 & continent == \"Americas\") %>%\n",
    "select(-year, -continent) %>%\n",
    "mutate(country = recode(country, \"Puerto Rico\" = \"United States\")) \n",
    "```"
   ]
  },
  {
   "cell_type": "code",
   "execution_count": 43,
   "metadata": {},
   "outputs": [
    {
     "name": "stdout",
     "output_type": "stream",
     "text": [
      "            country           pop  lifeExp    gdpPercap           gdp  \\\n",
      "1259  United States  7.620326e+10   78.746  19328.70901  7.620326e+10   \n",
      "1619  United States  1.293446e+13   78.242  42951.65309  1.293446e+13   \n",
      "\n",
      "      popInMillions  \n",
      "1259   7.620326e+04  \n",
      "1619   1.293446e+07  \n"
     ]
    }
   ],
   "source": [
    "gapminder_2007[\"country\"].replace({\"Puerto Rico\": \"United States\"}, inplace=True)\n",
    "\n",
    "print(\n",
    "    gapminder_2007\n",
    "    .query(\"country == 'United States'\")\n",
    ")"
   ]
  },
  {
   "cell_type": "markdown",
   "metadata": {
    "id": "Klh4sW3xWSE-"
   },
   "source": [
    "```r\n",
    "gapminder <- read_csv(\"data/gapminder.csv\") %>%\n",
    "  filter(year == 2007 & continent == \"Americas\") %>%\n",
    "  select(-year, -continent) %>%\n",
    "  mutate(country = recode(country, \"Puerto Rico\" = \"United States\")) %>%\n",
    "  group_by(country) %>%\n",
    "  summarize(lifeExp = sum(lifeExp * pop)/sum(pop),\n",
    "            gdpPercap = sum(gdpPercap * pop)/sum(pop),\n",
    "            pop = sum(pop)\n",
    "  )\n",
    "```"
   ]
  },
  {
   "cell_type": "code",
   "execution_count": 44,
   "metadata": {},
   "outputs": [
    {
     "name": "stdout",
     "output_type": "stream",
     "text": [
      "                              pop     gdpPercap    lifeExp\n",
      "country                                                   \n",
      "Argentina            5.150336e+11  12779.379640  75.320000\n",
      "Bolivia              3.485465e+10   3822.137084  65.554000\n",
      "Brazil               1.722599e+12   9065.800825  72.390000\n",
      "Canada               1.212704e+12  36319.235010  80.653000\n",
      "Chile                2.144967e+11  13171.638850  78.553000\n",
      "Colombia             3.098839e+11   7006.580419  72.889000\n",
      "Costa Rica           3.987157e+10   9645.061420  78.782000\n",
      "Cuba                 1.021604e+11   8948.102923  78.273000\n",
      "Dominican Republic   5.615422e+10   6025.374752  72.235000\n",
      "Ecuador              9.454640e+10   6873.262326  74.994000\n",
      "El Salvador          3.975299e+10   5728.353514  71.878000\n",
      "Guatemala            6.520383e+10   5186.050003  70.259000\n",
      "Haiti                1.021730e+10   1201.637154  60.916000\n",
      "Honduras             2.655487e+10   3548.330846  70.198000\n",
      "Jamaica              2.035301e+10   7320.880262  72.567000\n",
      "Mexico               1.301973e+12  11977.574960  76.195000\n",
      "Nicaragua            1.560338e+10   2749.320965  72.899000\n",
      "Panama               3.180308e+10   9809.185636  75.537000\n",
      "Paraguay             2.782093e+10   4172.838464  71.752000\n",
      "Peru                 2.124486e+11   7408.905561  71.421000\n",
      "Trinidad and Tobago  1.902793e+10  18008.509240  69.819000\n",
      "United States        1.301066e+13  42813.293842  78.244952\n",
      "Uruguay              3.658298e+10  10611.462990  76.384000\n",
      "Venezuela            2.977774e+11  11415.805690  73.747000\n"
     ]
    }
   ],
   "source": [
    "print(\n",
    "    gapminder_2007\n",
    "    .groupby(\"country\")\n",
    "    .apply(lambda x: pd.Series({\n",
    "                \"pop\": np.sum(x[\"pop\"]),\n",
    "                \"gdpPercap\": np.sum(x[\"gdpPercap\"] * x[\"pop\"]) / np.sum(x[\"pop\"]),\n",
    "                \"lifeExp\": np.sum(x[\"lifeExp\"] * x[\"pop\"]) / np.sum(x[\"pop\"]),\n",
    "            }))\n",
    ")"
   ]
  },
  {
   "cell_type": "markdown",
   "metadata": {
    "id": "PnQ8uMw9d2pm"
   },
   "source": [
    "```r\n",
    "anti_join(gapminder, co2_emissions, by=\"country\")\n",
    "```"
   ]
  },
  {
   "cell_type": "code",
   "execution_count": 45,
   "metadata": {
    "colab": {
     "base_uri": "https://localhost:8080/",
     "height": 49
    },
    "id": "1oJ8DlCTjX2P",
    "outputId": "3d868d29-b81f-4191-b486-8239861a6468"
   },
   "outputs": [
    {
     "name": "stdout",
     "output_type": "stream",
     "text": [
      "Empty DataFrame\n",
      "Columns: [country, pop, lifeExp, gdpPercap, gdp, popInMillions, per_capita, total, _merge]\n",
      "Index: []\n"
     ]
    }
   ],
   "source": [
    "print(\n",
    "    gapminder_2007\n",
    "    .merge(co2_emissions, how=\"outer\", on=\"country\", indicator=True)\n",
    "    .query(\"_merge == 'left_only'\")\n",
    ")"
   ]
  },
  {
   "cell_type": "markdown",
   "metadata": {
    "id": "9salpF6XeB36"
   },
   "source": [
    "```r\n",
    "gapminder_co2 <- inner_join(gapminder, co2_emissions, by=\"country\")\n",
    "```"
   ]
  },
  {
   "cell_type": "code",
   "execution_count": 46,
   "metadata": {
    "colab": {
     "base_uri": "https://localhost:8080/",
     "height": 802
    },
    "id": "l-goF3mfd-NP",
    "outputId": "e8d0fc18-0d4a-4543-9948-c95c71175261"
   },
   "outputs": [
    {
     "name": "stdout",
     "output_type": "stream",
     "text": [
      "                country           pop  lifeExp     gdpPercap           gdp  \\\n",
      "0             Argentina  5.150336e+11   75.320  12779.379640  5.150336e+11   \n",
      "1               Bolivia  3.485465e+10   65.554   3822.137084  3.485465e+10   \n",
      "2                Brazil  1.722599e+12   72.390   9065.800825  1.722599e+12   \n",
      "3                Canada  1.212704e+12   80.653  36319.235010  1.212704e+12   \n",
      "4                 Chile  2.144967e+11   78.553  13171.638850  2.144967e+11   \n",
      "5              Colombia  3.098839e+11   72.889   7006.580419  3.098839e+11   \n",
      "6            Costa Rica  3.987157e+10   78.782   9645.061420  3.987157e+10   \n",
      "7                  Cuba  1.021604e+11   78.273   8948.102923  1.021604e+11   \n",
      "8    Dominican Republic  5.615422e+10   72.235   6025.374752  5.615422e+10   \n",
      "9               Ecuador  9.454640e+10   74.994   6873.262326  9.454640e+10   \n",
      "10          El Salvador  3.975299e+10   71.878   5728.353514  3.975299e+10   \n",
      "11            Guatemala  6.520383e+10   70.259   5186.050003  6.520383e+10   \n",
      "12                Haiti  1.021730e+10   60.916   1201.637154  1.021730e+10   \n",
      "13             Honduras  2.655487e+10   70.198   3548.330846  2.655487e+10   \n",
      "14              Jamaica  2.035301e+10   72.567   7320.880262  2.035301e+10   \n",
      "15               Mexico  1.301973e+12   76.195  11977.574960  1.301973e+12   \n",
      "16            Nicaragua  1.560338e+10   72.899   2749.320965  1.560338e+10   \n",
      "17               Panama  3.180308e+10   75.537   9809.185636  3.180308e+10   \n",
      "18             Paraguay  2.782093e+10   71.752   4172.838464  2.782093e+10   \n",
      "19                 Peru  2.124486e+11   71.421   7408.905561  2.124486e+11   \n",
      "20        United States  7.620326e+10   78.746  19328.709010  7.620326e+10   \n",
      "21        United States  1.293446e+13   78.242  42951.653090  1.293446e+13   \n",
      "22  Trinidad and Tobago  1.902793e+10   69.819  18008.509240  1.902793e+10   \n",
      "23              Uruguay  3.658298e+10   76.384  10611.462990  3.658298e+10   \n",
      "24            Venezuela  2.977774e+11   73.747  11415.805690  2.977774e+11   \n",
      "\n",
      "    popInMillions  per_capita        total  \n",
      "0    5.150336e+05       3.819   149476.040  \n",
      "1    3.485465e+04       0.984     8975.809  \n",
      "2    1.722599e+06       1.667   311623.799  \n",
      "3    1.212704e+06      16.762   540431.495  \n",
      "4    2.144967e+05       3.343    54434.634  \n",
      "5    3.098839e+05       1.238    53585.300  \n",
      "6    3.987157e+04       1.286     5463.059  \n",
      "7    1.021604e+05       2.220    25051.431  \n",
      "8    5.615422e+04       1.897    17522.139  \n",
      "9    9.454640e+04       1.742    23926.725  \n",
      "10   3.975299e+04       1.037     6252.815  \n",
      "11   6.520383e+04       0.811    10621.597  \n",
      "12   1.021730e+04       0.214     1980.992  \n",
      "13   2.655487e+04       0.976     7192.737  \n",
      "14   2.035301e+04       3.746    10281.648  \n",
      "15   1.301973e+06       3.854   412385.135  \n",
      "16   1.560338e+04       0.750     4032.083  \n",
      "17   3.180308e+04       2.035     6776.118  \n",
      "18   2.782093e+04       0.599     3472.665  \n",
      "19   2.124486e+05       1.037    28632.888  \n",
      "20   7.620326e+04      19.268  5703220.175  \n",
      "21   1.293446e+07      19.268  5703220.175  \n",
      "22   1.902793e+04      13.243    17175.823  \n",
      "23   3.658298e+04       1.549     5151.871  \n",
      "24   2.977774e+05       5.141   137701.548  \n"
     ]
    }
   ],
   "source": [
    "gapminder_co2 = gapminder_2007.merge(co2_emissions, how=\"inner\", on=\"country\")\n",
    "\n",
    "print(gapminder_co2)"
   ]
  },
  {
   "cell_type": "markdown",
   "metadata": {
    "id": "hRnhdmW_e-9e"
   },
   "source": [
    "```r\n",
    "gapminder_co2 %>%  \n",
    "mutate(region = if_else(country == \"Canada\" | country == \"United States\" | country == \"Mexico\", \"north\", \"south\"))  \n",
    "```"
   ]
  },
  {
   "cell_type": "code",
   "execution_count": 47,
   "metadata": {
    "colab": {
     "base_uri": "https://localhost:8080/",
     "height": 802
    },
    "id": "Z-wULWP3eN2n",
    "outputId": "b01fa9b9-1039-4af4-bcf0-4f2244e3422f"
   },
   "outputs": [
    {
     "name": "stdout",
     "output_type": "stream",
     "text": [
      "                country           pop  lifeExp     gdpPercap           gdp  \\\n",
      "0             Argentina  5.150336e+11   75.320  12779.379640  5.150336e+11   \n",
      "1               Bolivia  3.485465e+10   65.554   3822.137084  3.485465e+10   \n",
      "2                Brazil  1.722599e+12   72.390   9065.800825  1.722599e+12   \n",
      "3                Canada  1.212704e+12   80.653  36319.235010  1.212704e+12   \n",
      "4                 Chile  2.144967e+11   78.553  13171.638850  2.144967e+11   \n",
      "5              Colombia  3.098839e+11   72.889   7006.580419  3.098839e+11   \n",
      "6            Costa Rica  3.987157e+10   78.782   9645.061420  3.987157e+10   \n",
      "7                  Cuba  1.021604e+11   78.273   8948.102923  1.021604e+11   \n",
      "8    Dominican Republic  5.615422e+10   72.235   6025.374752  5.615422e+10   \n",
      "9               Ecuador  9.454640e+10   74.994   6873.262326  9.454640e+10   \n",
      "10          El Salvador  3.975299e+10   71.878   5728.353514  3.975299e+10   \n",
      "11            Guatemala  6.520383e+10   70.259   5186.050003  6.520383e+10   \n",
      "12                Haiti  1.021730e+10   60.916   1201.637154  1.021730e+10   \n",
      "13             Honduras  2.655487e+10   70.198   3548.330846  2.655487e+10   \n",
      "14              Jamaica  2.035301e+10   72.567   7320.880262  2.035301e+10   \n",
      "15               Mexico  1.301973e+12   76.195  11977.574960  1.301973e+12   \n",
      "16            Nicaragua  1.560338e+10   72.899   2749.320965  1.560338e+10   \n",
      "17               Panama  3.180308e+10   75.537   9809.185636  3.180308e+10   \n",
      "18             Paraguay  2.782093e+10   71.752   4172.838464  2.782093e+10   \n",
      "19                 Peru  2.124486e+11   71.421   7408.905561  2.124486e+11   \n",
      "20        United States  7.620326e+10   78.746  19328.709010  7.620326e+10   \n",
      "21        United States  1.293446e+13   78.242  42951.653090  1.293446e+13   \n",
      "22  Trinidad and Tobago  1.902793e+10   69.819  18008.509240  1.902793e+10   \n",
      "23              Uruguay  3.658298e+10   76.384  10611.462990  3.658298e+10   \n",
      "24            Venezuela  2.977774e+11   73.747  11415.805690  2.977774e+11   \n",
      "\n",
      "    popInMillions  per_capita        total region  \n",
      "0    5.150336e+05       3.819   149476.040  south  \n",
      "1    3.485465e+04       0.984     8975.809  south  \n",
      "2    1.722599e+06       1.667   311623.799  south  \n",
      "3    1.212704e+06      16.762   540431.495  north  \n",
      "4    2.144967e+05       3.343    54434.634  south  \n",
      "5    3.098839e+05       1.238    53585.300  south  \n",
      "6    3.987157e+04       1.286     5463.059  south  \n",
      "7    1.021604e+05       2.220    25051.431  south  \n",
      "8    5.615422e+04       1.897    17522.139  south  \n",
      "9    9.454640e+04       1.742    23926.725  south  \n",
      "10   3.975299e+04       1.037     6252.815  south  \n",
      "11   6.520383e+04       0.811    10621.597  south  \n",
      "12   1.021730e+04       0.214     1980.992  south  \n",
      "13   2.655487e+04       0.976     7192.737  south  \n",
      "14   2.035301e+04       3.746    10281.648  south  \n",
      "15   1.301973e+06       3.854   412385.135  north  \n",
      "16   1.560338e+04       0.750     4032.083  south  \n",
      "17   3.180308e+04       2.035     6776.118  south  \n",
      "18   2.782093e+04       0.599     3472.665  south  \n",
      "19   2.124486e+05       1.037    28632.888  south  \n",
      "20   7.620326e+04      19.268  5703220.175  north  \n",
      "21   1.293446e+07      19.268  5703220.175  north  \n",
      "22   1.902793e+04      13.243    17175.823  south  \n",
      "23   3.658298e+04       1.549     5151.871  south  \n",
      "24   2.977774e+05       5.141   137701.548  south  \n"
     ]
    }
   ],
   "source": [
    "gapminder_co2[\"region\"] = gapminder_co2[\"country\"].apply(lambda x: \"north\" if x in [\"Canada\", \"United States\", \"Mexico\"] else \"south\")\n",
    "\n",
    "print(gapminder_co2)"
   ]
  },
  {
   "cell_type": "markdown",
   "metadata": {
    "id": "LZkx6thLgkUc"
   },
   "source": [
    "```r\n",
    "write_csv(gapminder_co2, \"data/gapminder_co2.csv\")\n",
    "```"
   ]
  },
  {
   "cell_type": "code",
   "execution_count": 48,
   "metadata": {
    "id": "C5zJztAKglzk"
   },
   "outputs": [],
   "source": [
    "#gapminder_co2.to_csv(\"gapminder_co2.csv\")"
   ]
  },
  {
   "cell_type": "markdown",
   "metadata": {
    "id": "Dpv7hm21g0Ek"
   },
   "source": [
    "```r\n",
    "ggplot(gapminder_co2, aes(x=gdpPercap, y=per_capita)) +\n",
    "  geom_point() +\n",
    "  labs(x=\"GDP (per capita)\",\n",
    "       y=\"CO2 emitted (per capita)\",\n",
    "       title=\"There is a strong association between a nation's GDP \\nand the amount of CO2 it produces\"\n",
    "  )\n",
    "```"
   ]
  },
  {
   "cell_type": "code",
   "execution_count": 49,
   "metadata": {
    "colab": {
     "base_uri": "https://localhost:8080/",
     "height": 395
    },
    "id": "NzpThB6QgtQZ",
    "outputId": "382de16a-320c-4436-ab42-d12327f8bf18"
   },
   "outputs": [
    {
     "data": {
      "image/png": "[encoded data removed]",
      "text/plain": [
       "<seaborn._core.plot.Plot at 0x7f6e54609db0>"
      ]
     },
     "execution_count": 49,
     "metadata": {
      "image/png": {
       "height": 378.25,
       "width": 509.15
      }
     },
     "output_type": "execute_result"
    }
   ],
   "source": [
    "import seaborn.objects as so\n",
    "\n",
    "(\n",
    "    so.Plot(gapminder_co2, x=\"gdpPercap\", y=\"per_capita\")\n",
    "    .add(so.Dot())\n",
    "    .label(\n",
    "        x=\"GDP (per capita)\",\n",
    "        y=\"CO2 emitted (per capita)\",\n",
    "        title=\"There is a strong association between a nation's GDP \\nand the amount of CO2 it produces\")\n",
    ")"
   ]
  },
  {
   "cell_type": "markdown",
   "metadata": {
    "id": "lVFxcnG1htyy"
   },
   "source": [
    "```r\n",
    "ggplot(gapminder_co2, aes(x=gdpPercap, y=per_capita)) +\n",
    "  geom_point() +\n",
    "  labs(x=\"GDP (per capita)\",\n",
    "       y=\"CO2 emitted (per capita)\",\n",
    "       title=\"There is a strong association between a nation's GDP \\nand the amount of CO2 it produces\"\n",
    "  ) +\n",
    "  geom_smooth()\n",
    "```"
   ]
  },
  {
   "cell_type": "code",
   "execution_count": 50,
   "metadata": {
    "id": "69ahK2tHhU8B"
   },
   "outputs": [
    {
     "data": {
      "image/png": "[encoded data removed]",
      "text/plain": [
       "<seaborn._core.plot.Plot at 0x7f6e4f708f70>"
      ]
     },
     "execution_count": 50,
     "metadata": {
      "image/png": {
       "height": 378.25,
       "width": 509.15
      }
     },
     "output_type": "execute_result"
    }
   ],
   "source": [
    "# THE SEABORN OBJECTS INTERFACE CURRENTLY DOES NOT HAVE LOESS SMOOTHING\n",
    "\n",
    "(\n",
    "    so.Plot(gapminder_co2, x=\"gdpPercap\", y=\"per_capita\")\n",
    "    .add(so.Dot())\n",
    "    .label(\n",
    "        x=\"GDP (per capita)\",\n",
    "        y=\"CO2 emitted (per capita)\",\n",
    "        title=\"There is a strong association between a nation's GDP \\nand the amount of CO2 it produces\")\n",
    "    .add(so.Line(), so.PolyFit(order=3))\n",
    ")"
   ]
  },
  {
   "cell_type": "markdown",
   "metadata": {
    "id": "ef--G2m1kDmA"
   },
   "source": [
    "```r\n",
    "ggplot(gapminder_co2, aes(x=gdpPercap, y=per_capita)) +\n",
    "  geom_point() +\n",
    "  labs(x=\"GDP (per capita)\",\n",
    "       y=\"CO2 emitted (per capita)\",\n",
    "       title=\"There is a strong association between a nation's GDP \\nand the amount of CO2 it produces\"\n",
    "  ) +\n",
    "  geom_smooth(method=\"lm\")\n",
    "```"
   ]
  },
  {
   "cell_type": "code",
   "execution_count": 51,
   "metadata": {
    "id": "x2xzbClKiGtd"
   },
   "outputs": [
    {
     "data": {
      "image/png": "[encoded data removed]",
      "text/plain": [
       "<seaborn._core.plot.Plot at 0x7f6e4f687df0>"
      ]
     },
     "execution_count": 51,
     "metadata": {
      "image/png": {
       "height": 378.25,
       "width": 509.15
      }
     },
     "output_type": "execute_result"
    }
   ],
   "source": [
    "(\n",
    "    so.Plot(gapminder_co2, x=\"gdpPercap\", y=\"per_capita\")\n",
    "    .add(so.Dot())\n",
    "    .label(\n",
    "        x=\"GDP (per capita)\",\n",
    "        y=\"CO2 emitted (per capita)\",\n",
    "        title=\"There is a strong association between a nation's GDP \\nand the amount of CO2 it produces\")\n",
    "    .add(so.Line(), so.PolyFit(order=1))\n",
    ")"
   ]
  },
  {
   "cell_type": "markdown",
   "metadata": {
    "id": "pXTZgbqAkSuO"
   },
   "source": [
    "```r\n",
    "gapminder_co2 %>%\n",
    "  mutate(region = if_else(country == \"Canada\" |\n",
    "                            country == \"United States\" |\n",
    "                            country == \"Mexico\", \"north\", \"south\")) %>%\n",
    "  group_by(region) %>%\n",
    "  summarize(sumtotal = sum(total),\n",
    "            sumpop = sum(pop))\n",
    "```"
   ]
  },
  {
   "cell_type": "code",
   "execution_count": 52,
   "metadata": {
    "id": "_zGWPtPgkJV-"
   },
   "outputs": [
    {
     "name": "stdout",
     "output_type": "stream",
     "text": [
      "               total           pop\n",
      "region                            \n",
      "north   1.235926e+07  1.552534e+13\n",
      "south   8.893317e+05  3.892746e+12\n"
     ]
    }
   ],
   "source": [
    "print(\n",
    "    gapminder_co2\n",
    "    .groupby(\"region\")\n",
    "    .agg(\"sum\", numeric_only=True)\n",
    "    [[\"total\", \"pop\"]]\n",
    ")"
   ]
  },
  {
   "cell_type": "markdown",
   "metadata": {
    "id": "ltkFVjJVlhTj"
   },
   "source": [
    "```r\n",
    "gapminder %>%\n",
    " filter(year==2007) %>%\n",
    " group_by(continent) %>%\n",
    " summarise(average= mean(lifeExp)) %>%\n",
    " arrange(desc(average))\n",
    "```"
   ]
  },
  {
   "cell_type": "code",
   "execution_count": 53,
   "metadata": {
    "id": "6FaURVyXlr25"
   },
   "outputs": [
    {
     "name": "stdout",
     "output_type": "stream",
     "text": [
      "                mean\n",
      "continent           \n",
      "Oceania    80.719500\n",
      "Europe     77.648600\n",
      "Americas   73.608120\n",
      "Asia       70.728485\n",
      "Africa     54.806038\n"
     ]
    }
   ],
   "source": [
    "print(\n",
    "    gapminder\n",
    "    .query(\"year==2007\")\n",
    "    .groupby(\"continent\")[\"lifeExp\"]\n",
    "    .agg(mean=\"mean\")\n",
    "    .sort_values(\"mean\", ascending=False)\n",
    ")"
   ]
  }
 ],
 "metadata": {
  "colab": {
   "provenance": []
  },
  "kernelspec": {
   "display_name": "Python 3 (ipykernel)",
   "language": "python",
   "name": "python3"
  },
  "language_info": {
   "codemirror_mode": {
    "name": "ipython",
    "version": 3
   },
   "file_extension": ".py",
   "mimetype": "text/x-python",
   "name": "python",
   "nbconvert_exporter": "python",
   "pygments_lexer": "ipython3",
   "version": "3.10.9"
  }
 },
 "nbformat": 4,
 "nbformat_minor": 4
}
